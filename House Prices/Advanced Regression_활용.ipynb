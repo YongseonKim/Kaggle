{
 "cells": [
  {
   "cell_type": "markdown",
   "metadata": {},
   "source": [
    "## Advanced Regression\n",
    "### 자료 설명\n",
    "- Toyota의 중고차 판매에 대한 자료\n",
    "- 51개의 변수와 1436개의 관측값으로 구성 : 분석에는 10개의 변수만 사용\n",
    "- 변수 설명\n",
    "    - Price : 판매 가격\n",
    "    - Age_08_04 : 자료 취득 시점까지 자동차 구동 시간\n",
    "    - KM : 주행거리\n",
    "    - Fuel_Type : 연료유형 (CNG, Diesel, Patrol)\n",
    "    - HP : 마력\n",
    "    - Met_Color : 금속 색이면 1, 아니면 0\n",
    "    - Automatic : 자동변속이면 1, 아니면 0\n",
    "    - cc : 실린더 부피\n",
    "    - Quartely_Tax : 분기별 세금 (\\$)\n",
    "    - Weight : 무게(kg)\n",
    "    \n",
    "### 분석 목적 : 나머지 변수들로 Price를 예측하기\n",
    "    \n",
    "### 데이터 불러오기"
   ]
  },
  {
   "cell_type": "markdown",
   "metadata": {},
   "source": [
    "## Formulation\n",
    "1. Correlation 확인\n",
    "2. Y Skew 확인\n",
    "3. Outlier 확인\n",
    "4. Missing Data 확인\n",
    "5. Imputing Missing Data\n",
    "### Pipeline 구성해나가기 : class에 fit-transform을 만들어가면 된다.\n",
    "    6. Type 변경 : Numerical -> Categorical\n",
    "    7. labeling\n",
    "    7. Skew 여부 확인 : np.log1p\n",
    "\n",
    "8. test-train split : test set도 같이 PCA를 해버리면 봐버리는 격 \n",
    "    - pca.fit_transform(train) 하고 pca.transform(test)로 하면된다.\n",
    "8. PCA를 위한 Scaling  : stadardscaler와 robustscaler\n",
    "    - 이상치가 있다 싶으면 robustscaler로 \n",
    "    - RobustScaler().fi_transform(X)를 하고 RobustScaler().transform(test)로\n",
    "      fit은 train으로 test는 적용만 !\n",
    "9. PCA 전에 feature importance으로 중요한 변수를 확인하고 결합하는 작업을 할 수있다.\n",
    "    - 중요 변수를 뽑아내주는거는 Lasso, Ridge, Randomforest, gradientboosting을 활용할 수 있다.\n",
    "    - 상위 몇개의 변수만을 뽑아서 작업을 해도 되지만,\n",
    "      여기에서는 모든 변수를 사용했고 중요한 변수간의 결합하는 용도(?)로 사용했다.\n",
    "8. PCA\n",
    "    - 다중 공선성을 제거하기 위해 n개의 변수로 n개의 주성분을 뽑는 방식을 사용했다.\n",
    "    - 차원을 축소하여 k(<n)개의 주성분을 뽑아서 계산을 수행할 수도 있지만\n",
    "    - 여기에서는 차원 축소가 목적이 아니라 n개의 주성분을 모두 사용했다.\n",
    "    - 마찬가지로 train으로 fit_transform을 하고 test는 transform만 한다.\n",
    "    - Scaling이 중요하다!\n",
    "9. Modeling\n",
    "    - Lasso, ridge, Elasticnet, kernelridge, Randomforsetregressor, lightgbm\n",
    "    - grid search를 활용하여 Parameter 를 찾자\n",
    "10. Ensemble\n",
    "    - Weight average : Grid search score 기반으로 가중치를 줘서 결과를 평균낸다.\n",
    "    - Stacking\n",
    "        - 아래처럼 바꿔주지 않으면 에러난다 value error: nan, infinity~~~\n",
    "        - a = Imputer().fit_transform(train_X_pca)\n",
    "        - b = Imputer().fit_transform(y_train.reshape(-1,1)).ravel()\n",
    "        \n",
    "## 일반모델로 Test RMSE 0.11, Weight average로 0.10, Stacking으로 0.099 달성!!\n",
    "\n",
    "\n",
    "-------\n"
   ]
  },
  {
   "cell_type": "code",
   "execution_count": 186,
   "metadata": {},
   "outputs": [],
   "source": [
    "%matplotlib inline\n",
    "import matplotlib.pyplot as plt  # Matlab-style plotting\n",
    "import seaborn as sns\n",
    "from scipy import stats\n",
    "from scipy.stats import norm, skew #for some statistics\n",
    "from sklearn.base import BaseEstimator, TransformerMixin, RegressorMixin, clone\n",
    "from sklearn.preprocessing import LabelEncoder\n",
    "from sklearn.preprocessing import RobustScaler, StandardScaler\n",
    "from sklearn.metrics import mean_squared_error\n",
    "from sklearn.pipeline import Pipeline, make_pipeline\n",
    "from scipy.stats import skew\n",
    "from sklearn.decomposition import PCA, KernelPCA\n",
    "from sklearn.preprocessing import Imputer"
   ]
  },
  {
   "cell_type": "code",
   "execution_count": 305,
   "metadata": {},
   "outputs": [],
   "source": [
    "from sklearn.model_selection import cross_val_score, GridSearchCV, KFold\n",
    "from sklearn.linear_model import LinearRegression\n",
    "from sklearn.linear_model import Ridge\n",
    "from sklearn.linear_model import Lasso\n",
    "from sklearn.ensemble import RandomForestRegressor, GradientBoostingRegressor, ExtraTreesRegressor\n",
    "from sklearn.svm import SVR, LinearSVR\n",
    "from sklearn.linear_model import ElasticNet, SGDRegressor, BayesianRidge\n",
    "from sklearn.kernel_ridge import KernelRidge"
   ]
  },
  {
   "cell_type": "code",
   "execution_count": 188,
   "metadata": {},
   "outputs": [
    {
     "data": {
      "text/html": [
       "<div>\n",
       "<style scoped>\n",
       "    .dataframe tbody tr th:only-of-type {\n",
       "        vertical-align: middle;\n",
       "    }\n",
       "\n",
       "    .dataframe tbody tr th {\n",
       "        vertical-align: top;\n",
       "    }\n",
       "\n",
       "    .dataframe thead th {\n",
       "        text-align: right;\n",
       "    }\n",
       "</style>\n",
       "<table border=\"1\" class=\"dataframe\">\n",
       "  <thead>\n",
       "    <tr style=\"text-align: right;\">\n",
       "      <th></th>\n",
       "      <th>Price</th>\n",
       "      <th>Age_08_04</th>\n",
       "      <th>Mfg_Month</th>\n",
       "      <th>Mfg_Year</th>\n",
       "      <th>KM</th>\n",
       "      <th>Fuel_Type</th>\n",
       "      <th>HP</th>\n",
       "      <th>Met_Color</th>\n",
       "      <th>Color</th>\n",
       "      <th>Automatic</th>\n",
       "      <th>...</th>\n",
       "      <th>Central_Lock</th>\n",
       "      <th>Powered_Windows</th>\n",
       "      <th>Power_Steering</th>\n",
       "      <th>Radio</th>\n",
       "      <th>Mistlamps</th>\n",
       "      <th>Sport_Model</th>\n",
       "      <th>Backseat_Divider</th>\n",
       "      <th>Metallic_Rim</th>\n",
       "      <th>Radio_cassette</th>\n",
       "      <th>Tow_Bar</th>\n",
       "    </tr>\n",
       "  </thead>\n",
       "  <tbody>\n",
       "    <tr>\n",
       "      <th>0</th>\n",
       "      <td>13500</td>\n",
       "      <td>23</td>\n",
       "      <td>10</td>\n",
       "      <td>2002</td>\n",
       "      <td>46986</td>\n",
       "      <td>Diesel</td>\n",
       "      <td>90</td>\n",
       "      <td>1</td>\n",
       "      <td>Blue</td>\n",
       "      <td>0</td>\n",
       "      <td>...</td>\n",
       "      <td>1</td>\n",
       "      <td>1</td>\n",
       "      <td>1</td>\n",
       "      <td>0</td>\n",
       "      <td>0</td>\n",
       "      <td>0</td>\n",
       "      <td>1</td>\n",
       "      <td>0</td>\n",
       "      <td>0</td>\n",
       "      <td>0</td>\n",
       "    </tr>\n",
       "    <tr>\n",
       "      <th>1</th>\n",
       "      <td>13750</td>\n",
       "      <td>23</td>\n",
       "      <td>10</td>\n",
       "      <td>2002</td>\n",
       "      <td>72937</td>\n",
       "      <td>Diesel</td>\n",
       "      <td>90</td>\n",
       "      <td>1</td>\n",
       "      <td>Silver</td>\n",
       "      <td>0</td>\n",
       "      <td>...</td>\n",
       "      <td>1</td>\n",
       "      <td>0</td>\n",
       "      <td>1</td>\n",
       "      <td>0</td>\n",
       "      <td>0</td>\n",
       "      <td>0</td>\n",
       "      <td>1</td>\n",
       "      <td>0</td>\n",
       "      <td>0</td>\n",
       "      <td>0</td>\n",
       "    </tr>\n",
       "    <tr>\n",
       "      <th>2</th>\n",
       "      <td>13950</td>\n",
       "      <td>24</td>\n",
       "      <td>9</td>\n",
       "      <td>2002</td>\n",
       "      <td>41711</td>\n",
       "      <td>Diesel</td>\n",
       "      <td>90</td>\n",
       "      <td>1</td>\n",
       "      <td>Blue</td>\n",
       "      <td>0</td>\n",
       "      <td>...</td>\n",
       "      <td>0</td>\n",
       "      <td>0</td>\n",
       "      <td>1</td>\n",
       "      <td>0</td>\n",
       "      <td>0</td>\n",
       "      <td>0</td>\n",
       "      <td>1</td>\n",
       "      <td>0</td>\n",
       "      <td>0</td>\n",
       "      <td>0</td>\n",
       "    </tr>\n",
       "    <tr>\n",
       "      <th>3</th>\n",
       "      <td>14950</td>\n",
       "      <td>26</td>\n",
       "      <td>7</td>\n",
       "      <td>2002</td>\n",
       "      <td>48000</td>\n",
       "      <td>Diesel</td>\n",
       "      <td>90</td>\n",
       "      <td>0</td>\n",
       "      <td>Black</td>\n",
       "      <td>0</td>\n",
       "      <td>...</td>\n",
       "      <td>0</td>\n",
       "      <td>0</td>\n",
       "      <td>1</td>\n",
       "      <td>0</td>\n",
       "      <td>0</td>\n",
       "      <td>0</td>\n",
       "      <td>1</td>\n",
       "      <td>0</td>\n",
       "      <td>0</td>\n",
       "      <td>0</td>\n",
       "    </tr>\n",
       "    <tr>\n",
       "      <th>4</th>\n",
       "      <td>13750</td>\n",
       "      <td>30</td>\n",
       "      <td>3</td>\n",
       "      <td>2002</td>\n",
       "      <td>38500</td>\n",
       "      <td>Diesel</td>\n",
       "      <td>90</td>\n",
       "      <td>0</td>\n",
       "      <td>Black</td>\n",
       "      <td>0</td>\n",
       "      <td>...</td>\n",
       "      <td>1</td>\n",
       "      <td>1</td>\n",
       "      <td>1</td>\n",
       "      <td>0</td>\n",
       "      <td>1</td>\n",
       "      <td>0</td>\n",
       "      <td>1</td>\n",
       "      <td>0</td>\n",
       "      <td>0</td>\n",
       "      <td>0</td>\n",
       "    </tr>\n",
       "  </tbody>\n",
       "</table>\n",
       "<p>5 rows × 36 columns</p>\n",
       "</div>"
      ],
      "text/plain": [
       "   Price  Age_08_04  Mfg_Month  Mfg_Year     KM Fuel_Type  HP  Met_Color  \\\n",
       "0  13500         23         10      2002  46986    Diesel  90          1   \n",
       "1  13750         23         10      2002  72937    Diesel  90          1   \n",
       "2  13950         24          9      2002  41711    Diesel  90          1   \n",
       "3  14950         26          7      2002  48000    Diesel  90          0   \n",
       "4  13750         30          3      2002  38500    Diesel  90          0   \n",
       "\n",
       "    Color  Automatic   ...     Central_Lock  Powered_Windows  Power_Steering  \\\n",
       "0    Blue          0   ...                1                1               1   \n",
       "1  Silver          0   ...                1                0               1   \n",
       "2    Blue          0   ...                0                0               1   \n",
       "3   Black          0   ...                0                0               1   \n",
       "4   Black          0   ...                1                1               1   \n",
       "\n",
       "   Radio  Mistlamps  Sport_Model  Backseat_Divider  Metallic_Rim  \\\n",
       "0      0          0            0                 1             0   \n",
       "1      0          0            0                 1             0   \n",
       "2      0          0            0                 1             0   \n",
       "3      0          0            0                 1             0   \n",
       "4      0          1            0                 1             0   \n",
       "\n",
       "   Radio_cassette  Tow_Bar  \n",
       "0               0        0  \n",
       "1               0        0  \n",
       "2               0        0  \n",
       "3               0        0  \n",
       "4               0        0  \n",
       "\n",
       "[5 rows x 36 columns]"
      ]
     },
     "execution_count": 188,
     "metadata": {},
     "output_type": "execute_result"
    }
   ],
   "source": [
    "import pandas as pd\n",
    "import numpy as np\n",
    "\n",
    "toyota = pd.read_csv('ToyotaCorolla.csv', delimiter = ',')\n",
    "# unknown 삭제, ID 삭제\n",
    "toyota = toyota.iloc[:,2:-13]\n",
    "toyota.head()\n"
   ]
  },
  {
   "cell_type": "code",
   "execution_count": null,
   "metadata": {},
   "outputs": [],
   "source": []
  },
  {
   "cell_type": "markdown",
   "metadata": {},
   "source": [
    "### 0. Correlation 확인 : heatmap\n",
    "    - price와 age가 역의 상관관계가있다.\n",
    "    - price와 mfg_year가 양의 상관관계\n",
    "    - central_lock과 powered_window는 강한 상관관계가 있다.\n",
    "    - Quarterly_tz와 weight가 강한 상관관계가 있다.\n",
    "    - radio와 radio_casset이 당연하게 관계가 있다."
   ]
  },
  {
   "cell_type": "code",
   "execution_count": 189,
   "metadata": {},
   "outputs": [
    {
     "data": {
      "text/plain": [
       "<matplotlib.axes._subplots.AxesSubplot at 0x1259f501dd8>"
      ]
     },
     "execution_count": 189,
     "metadata": {},
     "output_type": "execute_result"
    },
    {
     "data": {
      "image/png": "[encoded data removed]",
      "text/plain": [
       "<Figure size 864x648 with 2 Axes>"
      ]
     },
     "metadata": {},
     "output_type": "display_data"
    }
   ],
   "source": [
    "t_corr=toyota.corr()\n",
    "plt.subplots(figsize=(12,9))\n",
    "sns.heatmap(t_corr, vmax=0.9, square=True)"
   ]
  },
  {
   "cell_type": "markdown",
   "metadata": {},
   "source": [
    "### 1. Y Skew 여부 확인\n",
    "    - Y가 Skew 되어 있는지를 보고 Skew 되어 있다면 np.log1p 값으로 대체하자"
   ]
  },
  {
   "cell_type": "code",
   "execution_count": 190,
   "metadata": {},
   "outputs": [
    {
     "name": "stderr",
     "output_type": "stream",
     "text": [
      "C:\\ProgramData\\Anaconda3\\lib\\site-packages\\matplotlib\\axes\\_axes.py:6462: UserWarning: The 'normed' kwarg is deprecated, and has been replaced by the 'density' kwarg.\n",
      "  warnings.warn(\"The 'normed' kwarg is deprecated, and has been \"\n"
     ]
    },
    {
     "data": {
      "image/png": "[encoded data removed]",
      "text/plain": [
       "<Figure size 432x288 with 1 Axes>"
      ]
     },
     "metadata": {},
     "output_type": "display_data"
    }
   ],
   "source": [
    "# price의 분포를 확인하자 \n",
    "# 왼쪽으로 Skew 되어 있다. 이것에 log를 씌우자\n",
    "g = sns.distplot(toyota['Price'], fit = norm,label=\"Skewness : %.2f\"%(toyota[\"Price\"].skew()))\n",
    "g =g.legend(loc = \"best\")\n"
   ]
  },
  {
   "cell_type": "code",
   "execution_count": 191,
   "metadata": {},
   "outputs": [
    {
     "name": "stderr",
     "output_type": "stream",
     "text": [
      "C:\\ProgramData\\Anaconda3\\lib\\site-packages\\matplotlib\\axes\\_axes.py:6462: UserWarning: The 'normed' kwarg is deprecated, and has been replaced by the 'density' kwarg.\n",
      "  warnings.warn(\"The 'normed' kwarg is deprecated, and has been \"\n"
     ]
    },
    {
     "data": {
      "image/png": "[encoded data removed]",
      "text/plain": [
       "<Figure size 432x288 with 1 Axes>"
      ]
     },
     "metadata": {},
     "output_type": "display_data"
    }
   ],
   "source": [
    "# skew 된 Y를 업데이트 하기\n",
    "g1 = sns.distplot(np.log1p(toyota['Price']), \n",
    "                 fit = norm,\n",
    "                 label=\"Skewness : %.2f\"%(np.log1p(toyota[\"Price\"]).skew()))\n",
    "g1 =g1.legend(loc = \"best\")\n",
    "\n",
    "toyota['Price'] = np.log1p(toyota['Price'])\n"
   ]
  },
  {
   "cell_type": "markdown",
   "metadata": {},
   "source": [
    "### 2. Outlier 확인\n",
    "    - float64 type의 variable과 Y간의 관계를 보고 이상치 있는지를 확인\n",
    "    - 이상치로 볼만한 건이 없다."
   ]
  },
  {
   "cell_type": "code",
   "execution_count": 192,
   "metadata": {},
   "outputs": [
    {
     "data": {
      "image/png": "[encoded data removed]",
      "text/plain": [
       "<Figure size 432x288 with 1 Axes>"
      ]
     },
     "metadata": {},
     "output_type": "display_data"
    }
   ],
   "source": [
    "# km와 price의 관계를 보자\n",
    "#Check the graphic again\n",
    "fig, ax = plt.subplots()\n",
    "ax.scatter(toyota['KM'], toyota['Price'])\n",
    "plt.ylabel('Price', fontsize=13)\n",
    "plt.xlabel('KM', fontsize=13)\n",
    "plt.show()\n",
    "\n",
    "# 가격이 높은 차가 있다. 이 차는 이상치로 볼것인가?\n",
    "# 이정도면 이상치라고 보기는 좀 힘들것 같다. pass"
   ]
  },
  {
   "cell_type": "markdown",
   "metadata": {},
   "source": [
    "### 3. Missing Data \n",
    "    - 이 데이터에는 missing data가 없다"
   ]
  },
  {
   "cell_type": "code",
   "execution_count": 193,
   "metadata": {},
   "outputs": [
    {
     "data": {
      "text/plain": [
       "Series([], dtype: int64)"
      ]
     },
     "execution_count": 193,
     "metadata": {},
     "output_type": "execute_result"
    }
   ],
   "source": [
    "toyota.isnull().sum()[toyota.isnull().sum()>0]"
   ]
  },
  {
   "cell_type": "markdown",
   "metadata": {},
   "source": [
    "### 4. Imputing Missing Value\n",
    "    - 이 데이터에는 missing data가 없으므로 pass"
   ]
  },
  {
   "cell_type": "markdown",
   "metadata": {},
   "source": [
    "### 5. Pipe line 구성해나가기\n",
    "    - fit은 return self를 해줘야한다!\n",
    "    - categorical로 변경\n",
    "    - skew 데이터 처리하기 (categorical value가 아닌 것으로)\n",
    "    - feature 추가 : mfg_year + mfg_month"
   ]
  },
  {
   "cell_type": "code",
   "execution_count": 194,
   "metadata": {},
   "outputs": [],
   "source": [
    "from sklearn.base import BaseEstimator, TransformerMixin, RegressorMixin, clone"
   ]
  },
  {
   "cell_type": "code",
   "execution_count": 222,
   "metadata": {},
   "outputs": [],
   "source": [
    "# int -> categorical로 변경 class\n",
    "\n",
    "class changeType(BaseEstimator, TransformerMixin):\n",
    "    def __init__(self):\n",
    "        pass\n",
    "    def fit(self,x,y=None):\n",
    "        return self\n",
    "    def transform(self,x):\n",
    "        num_cols = ['Mfg_Month','Mfg_Year','HP','Met_Color','Automatic','cc','Doors',\n",
    "                   'Cylinders','Gears','Quarterly_Tax']\n",
    "        num_cols.append(toyota.columns[17:])\n",
    "        for col in num_cols:\n",
    "            x[col] = x[col].astype(str)\n",
    "        return x\n",
    "# changeType().transform(toyota).dtypes"
   ]
  },
  {
   "cell_type": "code",
   "execution_count": 223,
   "metadata": {},
   "outputs": [],
   "source": [
    "# skew 데이터 처리\n",
    "\n",
    "class Skew(BaseEstimator, TransformerMixin):\n",
    "    def __init__(self,skew=1):\n",
    "        self.skew = skew\n",
    "    def fit(self,x,y=None):\n",
    "        return self\n",
    "    def transform(self,X):\n",
    "        cols = X.dtypes[toyota.dtypes == 'int64'].index\n",
    "        for col in cols :\n",
    "            if skew(X[col])>self.skew :\n",
    "#                 print(col)\n",
    "                X[col]=np.log1p(X[col])\n",
    "        return X\n",
    "# Skew(skew=1).transform(toyota)"
   ]
  },
  {
   "cell_type": "code",
   "execution_count": 231,
   "metadata": {},
   "outputs": [],
   "source": [
    "# dummy 생성 \n",
    "\n",
    "class Getdummy(BaseEstimator, TransformerMixin):\n",
    "    def __init__(self):\n",
    "        pass\n",
    "    def fit(self, X,y=None):\n",
    "        return self\n",
    "    def transform(self,X):\n",
    "        return pd.get_dummies(X, drop_first = True)\n",
    "# Getdummy().transform(toyota).head()"
   ]
  },
  {
   "cell_type": "markdown",
   "metadata": {},
   "source": [
    "### Pipeline"
   ]
  },
  {
   "cell_type": "code",
   "execution_count": 232,
   "metadata": {},
   "outputs": [],
   "source": [
    "pipe = Pipeline([\n",
    "    ('changetype',changeType()),\n",
    "    ('Skew',Skew(skew=1)),\n",
    "    ('Getdummy',Getdummy()),\n",
    "    ('Scaling',scaler())\n",
    "])"
   ]
  },
  {
   "cell_type": "code",
   "execution_count": 233,
   "metadata": {},
   "outputs": [
    {
     "data": {
      "text/html": [
       "<div>\n",
       "<style scoped>\n",
       "    .dataframe tbody tr th:only-of-type {\n",
       "        vertical-align: middle;\n",
       "    }\n",
       "\n",
       "    .dataframe tbody tr th {\n",
       "        vertical-align: top;\n",
       "    }\n",
       "\n",
       "    .dataframe thead th {\n",
       "        text-align: right;\n",
       "    }\n",
       "</style>\n",
       "<table border=\"1\" class=\"dataframe\">\n",
       "  <thead>\n",
       "    <tr style=\"text-align: right;\">\n",
       "      <th></th>\n",
       "      <th>Price</th>\n",
       "      <th>Age_08_04</th>\n",
       "      <th>Mfg_Month</th>\n",
       "      <th>Mfg_Year</th>\n",
       "      <th>KM</th>\n",
       "      <th>Fuel_Type</th>\n",
       "      <th>HP</th>\n",
       "      <th>Met_Color</th>\n",
       "      <th>Color</th>\n",
       "      <th>Automatic</th>\n",
       "      <th>...</th>\n",
       "      <th>Central_Lock</th>\n",
       "      <th>Powered_Windows</th>\n",
       "      <th>Power_Steering</th>\n",
       "      <th>Radio</th>\n",
       "      <th>Mistlamps</th>\n",
       "      <th>Sport_Model</th>\n",
       "      <th>Backseat_Divider</th>\n",
       "      <th>Metallic_Rim</th>\n",
       "      <th>Radio_cassette</th>\n",
       "      <th>Tow_Bar</th>\n",
       "    </tr>\n",
       "  </thead>\n",
       "  <tbody>\n",
       "    <tr>\n",
       "      <th>0</th>\n",
       "      <td>9.510519</td>\n",
       "      <td>23</td>\n",
       "      <td>10</td>\n",
       "      <td>2002</td>\n",
       "      <td>10.757626</td>\n",
       "      <td>Diesel</td>\n",
       "      <td>90</td>\n",
       "      <td>1</td>\n",
       "      <td>Blue</td>\n",
       "      <td>0</td>\n",
       "      <td>...</td>\n",
       "      <td>1</td>\n",
       "      <td>1</td>\n",
       "      <td>1</td>\n",
       "      <td>0</td>\n",
       "      <td>0</td>\n",
       "      <td>0</td>\n",
       "      <td>1</td>\n",
       "      <td>0</td>\n",
       "      <td>0</td>\n",
       "      <td>0</td>\n",
       "    </tr>\n",
       "    <tr>\n",
       "      <th>1</th>\n",
       "      <td>9.528867</td>\n",
       "      <td>23</td>\n",
       "      <td>10</td>\n",
       "      <td>2002</td>\n",
       "      <td>11.197365</td>\n",
       "      <td>Diesel</td>\n",
       "      <td>90</td>\n",
       "      <td>1</td>\n",
       "      <td>Silver</td>\n",
       "      <td>0</td>\n",
       "      <td>...</td>\n",
       "      <td>1</td>\n",
       "      <td>0</td>\n",
       "      <td>1</td>\n",
       "      <td>0</td>\n",
       "      <td>0</td>\n",
       "      <td>0</td>\n",
       "      <td>1</td>\n",
       "      <td>0</td>\n",
       "      <td>0</td>\n",
       "      <td>0</td>\n",
       "    </tr>\n",
       "    <tr>\n",
       "      <th>2</th>\n",
       "      <td>9.543306</td>\n",
       "      <td>24</td>\n",
       "      <td>9</td>\n",
       "      <td>2002</td>\n",
       "      <td>10.638544</td>\n",
       "      <td>Diesel</td>\n",
       "      <td>90</td>\n",
       "      <td>1</td>\n",
       "      <td>Blue</td>\n",
       "      <td>0</td>\n",
       "      <td>...</td>\n",
       "      <td>0</td>\n",
       "      <td>0</td>\n",
       "      <td>1</td>\n",
       "      <td>0</td>\n",
       "      <td>0</td>\n",
       "      <td>0</td>\n",
       "      <td>1</td>\n",
       "      <td>0</td>\n",
       "      <td>0</td>\n",
       "      <td>0</td>\n",
       "    </tr>\n",
       "    <tr>\n",
       "      <th>3</th>\n",
       "      <td>9.612533</td>\n",
       "      <td>26</td>\n",
       "      <td>7</td>\n",
       "      <td>2002</td>\n",
       "      <td>10.778977</td>\n",
       "      <td>Diesel</td>\n",
       "      <td>90</td>\n",
       "      <td>0</td>\n",
       "      <td>Black</td>\n",
       "      <td>0</td>\n",
       "      <td>...</td>\n",
       "      <td>0</td>\n",
       "      <td>0</td>\n",
       "      <td>1</td>\n",
       "      <td>0</td>\n",
       "      <td>0</td>\n",
       "      <td>0</td>\n",
       "      <td>1</td>\n",
       "      <td>0</td>\n",
       "      <td>0</td>\n",
       "      <td>0</td>\n",
       "    </tr>\n",
       "    <tr>\n",
       "      <th>4</th>\n",
       "      <td>9.528867</td>\n",
       "      <td>30</td>\n",
       "      <td>3</td>\n",
       "      <td>2002</td>\n",
       "      <td>10.558439</td>\n",
       "      <td>Diesel</td>\n",
       "      <td>90</td>\n",
       "      <td>0</td>\n",
       "      <td>Black</td>\n",
       "      <td>0</td>\n",
       "      <td>...</td>\n",
       "      <td>1</td>\n",
       "      <td>1</td>\n",
       "      <td>1</td>\n",
       "      <td>0</td>\n",
       "      <td>1</td>\n",
       "      <td>0</td>\n",
       "      <td>1</td>\n",
       "      <td>0</td>\n",
       "      <td>0</td>\n",
       "      <td>0</td>\n",
       "    </tr>\n",
       "  </tbody>\n",
       "</table>\n",
       "<p>5 rows × 36 columns</p>\n",
       "</div>"
      ],
      "text/plain": [
       "      Price  Age_08_04 Mfg_Month Mfg_Year         KM Fuel_Type  HP Met_Color  \\\n",
       "0  9.510519         23        10     2002  10.757626    Diesel  90         1   \n",
       "1  9.528867         23        10     2002  11.197365    Diesel  90         1   \n",
       "2  9.543306         24         9     2002  10.638544    Diesel  90         1   \n",
       "3  9.612533         26         7     2002  10.778977    Diesel  90         0   \n",
       "4  9.528867         30         3     2002  10.558439    Diesel  90         0   \n",
       "\n",
       "    Color Automatic   ...   Central_Lock Powered_Windows Power_Steering Radio  \\\n",
       "0    Blue         0   ...              1               1              1     0   \n",
       "1  Silver         0   ...              1               0              1     0   \n",
       "2    Blue         0   ...              0               0              1     0   \n",
       "3   Black         0   ...              0               0              1     0   \n",
       "4   Black         0   ...              1               1              1     0   \n",
       "\n",
       "  Mistlamps  Sport_Model  Backseat_Divider Metallic_Rim Radio_cassette Tow_Bar  \n",
       "0         0            0                 1            0              0       0  \n",
       "1         0            0                 1            0              0       0  \n",
       "2         0            0                 1            0              0       0  \n",
       "3         0            0                 1            0              0       0  \n",
       "4         1            0                 1            0              0       0  \n",
       "\n",
       "[5 rows x 36 columns]"
      ]
     },
     "execution_count": 233,
     "metadata": {},
     "output_type": "execute_result"
    }
   ],
   "source": [
    "toyota.head()"
   ]
  },
  {
   "cell_type": "code",
   "execution_count": 234,
   "metadata": {},
   "outputs": [],
   "source": [
    "# Pipeline 실행\n",
    "full_data =  pipe.fit_transform(toyota)"
   ]
  },
  {
   "cell_type": "markdown",
   "metadata": {},
   "source": [
    "### 6. train-test set 분리하기\n",
    "    - PCA 나 변수 선택과 같은 작업을 할 때는 반드시 나눠주고 해야한다.\n",
    "    "
   ]
  },
  {
   "cell_type": "code",
   "execution_count": 240,
   "metadata": {},
   "outputs": [],
   "source": [
    "from sklearn.model_selection import train_test_split\n",
    "train, test = train_test_split(full_data, test_size = 0.2, random_state = 42)\n",
    "X_train, y_train = train.drop(\"Price\", axis = 1), train.Price\n",
    "X_test, y_test = test.drop(\"Price\", axis = 1), test.Price"
   ]
  },
  {
   "cell_type": "markdown",
   "metadata": {},
   "source": [
    "### 7. Scaling \n",
    "    - 변수가 대부분 정리가 다 된상태에서 scaling을 실시한다\n",
    "    - 이상치가 있을 수 있으니 robustscaler를 활용한다."
   ]
  },
  {
   "cell_type": "code",
   "execution_count": 246,
   "metadata": {},
   "outputs": [],
   "source": [
    "scaler = RobustScaler()\n",
    "# X_train으로 fit한 후 transform 하고\n",
    "# X_test를 fit 한 것에 넣어 transform만 수행한다.\n",
    "X_scaled = scaler.fit_transform(X_train)\n",
    "test_X_scaled = scaler.transform(X_test)"
   ]
  },
  {
   "cell_type": "markdown",
   "metadata": {},
   "source": [
    "## 8. Feature selection\n",
    "    - 변수를 뽑아낼 목적으로 사용할 수도 있지만 여기에서는 그냥 보기만 할 것\n",
    "    - Lasso는 관련있는 변수만 골라서 보여준다."
   ]
  },
  {
   "cell_type": "code",
   "execution_count": 261,
   "metadata": {},
   "outputs": [
    {
     "data": {
      "text/plain": [
       "(array([-0.4, -0.3, -0.2, -0.1,  0. ,  0.1,  0.2]),\n",
       " <a list of 7 Text xticklabel objects>)"
      ]
     },
     "execution_count": 261,
     "metadata": {},
     "output_type": "execute_result"
    },
    {
     "data": {
      "image/png": "[encoded data removed]",
      "text/plain": [
       "<Figure size 720x720 with 1 Axes>"
      ]
     },
     "metadata": {},
     "output_type": "display_data"
    }
   ],
   "source": [
    "# Lasso를 활용한 feature importance\n",
    "lasso = Lasso(alpha = 0.001)\n",
    "lasso.fit(X_scaled,y_train)\n",
    "# lasso는 관련있는 변수만 골라서 보여준다\n",
    "df_lasso = pd.DataFrame({\"Feature Importance\":lasso.coef_},\n",
    "                       index = full_data.iloc[:,1:].columns)\n",
    "df_lasso.sort_values(\"Feature Importance\",ascending=False)\n",
    "\n",
    "#graph\n",
    "p = df_lasso[df_lasso.iloc[:,0]!=0].sort_values(\"Feature Importance\",ascending=False) \\\n",
    "    .plot(kind=\"barh\",figsize = (10,10))\n",
    "plt.xticks(rotation = 90)\n"
   ]
  },
  {
   "cell_type": "code",
   "execution_count": 296,
   "metadata": {},
   "outputs": [
    {
     "data": {
      "image/png": "[encoded data removed]",
      "text/plain": [
       "<Figure size 864x720 with 1 Axes>"
      ]
     },
     "metadata": {},
     "output_type": "display_data"
    }
   ],
   "source": [
    "# gradientboosting을 활용한 feature importance\n",
    "# params = {'n_estimators': 500, 'max_depth': 4, 'min_samples_split': 2,\n",
    "#           'learning_rate': 0.01, 'loss': 'ls'}\n",
    "GB = GradientBoostingRegressor()\n",
    "GB.fit(X_scaled,y_train)\n",
    "FI = pd.DataFrame({'Importance':GB.feature_importances_},index = X_train.columns)\\\n",
    "    .sort_values(\"Importance\",ascending = False)\n",
    "fig, axes = plt.subplots( figsize=(12,10))\n",
    "g = sns.barplot(y=FI.index[:20],x = FI.Importance[:20] , orient='h')\n"
   ]
  },
  {
   "cell_type": "markdown",
   "metadata": {},
   "source": [
    "### 9. PCA\n",
    "    - PCA 를 하는 이유는 다중공선성이 분명 많을 것이기 때문에\n",
    "    - 선형 결합으로 다시 표현하여 다중 공선성을 제거하기 위함.\n",
    "    "
   ]
  },
  {
   "cell_type": "code",
   "execution_count": 303,
   "metadata": {},
   "outputs": [],
   "source": [
    "pca = PCA(n_components = 101)  # 성분을 줄일수도 있는데 여기에서는 다중 공선성 제거 용도로만\n",
    "train_X_pca = pca.fit_transform(X_scaled)\n",
    "test_X_pca = pca.transform(test_X_scaled)"
   ]
  },
  {
   "cell_type": "markdown",
   "metadata": {},
   "source": [
    "### 10. Modeling\n",
    "    - GridSearch를 활용하자"
   ]
  },
  {
   "cell_type": "code",
   "execution_count": 308,
   "metadata": {},
   "outputs": [],
   "source": [
    "# define cross validation strategy\n",
    "def rmse_cv(model,X,y):\n",
    "    rmse = np.sqrt(-cross_val_score(model, X, y, scoring=\"neg_mean_squared_error\", cv=5))\n",
    "    return rmse"
   ]
  },
  {
   "cell_type": "markdown",
   "metadata": {},
   "source": [
    "### 단순 성적 확인"
   ]
  },
  {
   "cell_type": "code",
   "execution_count": 307,
   "metadata": {},
   "outputs": [],
   "source": [
    "models = [LinearRegression(),Ridge(),Lasso(alpha=0.01,max_iter = 10000), RandomForestRegressor(),\n",
    "         GradientBoostingRegressor(),SVR(),LinearSVR(), \n",
    "          ElasticNet(alpha=0.001,max_iter=10000),SGDRegressor(max_iter=1000),BayesianRidge(),\n",
    "          KernelRidge(alpha=0.6, kernel='polynomial', degree=2, coef0=2.5),ExtraTreesRegressor()\n",
    "         ]\n",
    "\n",
    "names = [\"LR\", \"Ridge\", \"Lasso\", \"RF\", \"GBR\", \"SVR\", \"LinSVR\", \"Ela\",\"SGD\",\"Bay\",\"Ker\",\"Extra\"]"
   ]
  },
  {
   "cell_type": "code",
   "execution_count": 310,
   "metadata": {},
   "outputs": [
    {
     "name": "stdout",
     "output_type": "stream",
     "text": [
      "LR: 0.115416, 0.0081\n",
      "Ridge: 0.114040, 0.0073\n",
      "Lasso: 0.133437, 0.0073\n",
      "RF: 0.113135, 0.0053\n",
      "GBR: 0.107781, 0.0068\n",
      "SVR: 0.115851, 0.0028\n",
      "LinSVR: 0.138003, 0.0279\n",
      "Ela: 0.112701, 0.0077\n",
      "SGD: 0.159468, 0.0247\n",
      "Bay: 0.113622, 0.0072\n",
      "Ker: 0.110340, 0.0048\n",
      "Extra: 0.120481, 0.0077\n"
     ]
    }
   ],
   "source": [
    "# Scaling 했을 때 결과\n",
    "for name, model in zip(names, models):\n",
    "    score = rmse_cv(model,X_scaled,y_train)#train_X_pca,y_train)\n",
    "    print(\"{}: {:.6f}, {:.4f}\".format(name,score.mean(),score.std()))"
   ]
  },
  {
   "cell_type": "code",
   "execution_count": 328,
   "metadata": {},
   "outputs": [
    {
     "name": "stdout",
     "output_type": "stream",
     "text": [
      "LR: 134773936792.273148, 103096597606.0634\n",
      "Ridge: 0.114040, 0.0073\n",
      "Lasso: 0.144016, 0.0055\n",
      "RF: 0.130909, 0.0056\n",
      "GBR: 0.126260, 0.0024\n",
      "SVR: 0.115851, 0.0028\n",
      "LinSVR: 0.116219, 0.0081\n",
      "Ela: 0.113490, 0.0071\n",
      "SGD: 0.114044, 0.0072\n",
      "Bay: 0.113622, 0.0072\n",
      "Ker: 0.110200, 0.0046\n",
      "Extra: 0.129342, 0.0032\n"
     ]
    }
   ],
   "source": [
    "# Scaling + PCA를 했을때 결과\n",
    "for name, model in zip(names, models):\n",
    "    score = rmse_cv(model,train_X_pca,y_train)\n",
    "    print(\"{}: {:.6f}, {:.4f}\".format(name,score.mean(),score.std()))"
   ]
  },
  {
   "cell_type": "markdown",
   "metadata": {},
   "source": [
    "### grid search\n",
    "    - Model을 평가하는 방법\n",
    "    - Model fitting은 데이터 다 넣고 하는것"
   ]
  },
  {
   "cell_type": "code",
   "execution_count": 331,
   "metadata": {},
   "outputs": [],
   "source": [
    "def grid_get(model,X,y,param_grid):\n",
    "    grid_search = GridSearchCV(model,param_grid, cv = 5, scoring= \"neg_mean_squared_error\")\n",
    "    grid_search.fit(X,y)\n",
    "    print(grid_search.best_params_, np.sqrt(-grid_search.best_score_))\n",
    "    grid_search.cv_results_['mean_test_score'] = np.sqrt(-grid_search.cv_results_['mean_test_score'])\n",
    "    \n",
    "    print(pd.DataFrame(grid_search.cv_results_)[['params','mean_test_score','std_test_score']])"
   ]
  },
  {
   "cell_type": "code",
   "execution_count": 332,
   "metadata": {},
   "outputs": [
    {
     "name": "stdout",
     "output_type": "stream",
     "text": [
      "{'alpha': 0.0005, 'max_iter': 10000} 0.11368917569318333\n",
      "                                 params  mean_test_score  std_test_score\n",
      "0  {'alpha': 0.0004, 'max_iter': 10000}         0.113759        0.001626\n",
      "1  {'alpha': 0.0005, 'max_iter': 10000}         0.113689        0.001606\n",
      "2  {'alpha': 0.0007, 'max_iter': 10000}         0.114064        0.001616\n",
      "3  {'alpha': 0.0009, 'max_iter': 10000}         0.114745        0.001662\n"
     ]
    },
    {
     "name": "stderr",
     "output_type": "stream",
     "text": [
      "C:\\ProgramData\\Anaconda3\\lib\\site-packages\\sklearn\\utils\\deprecation.py:122: FutureWarning: You are accessing a training score ('mean_train_score'), which will not be available by default any more in 0.21. If you need training scores, please set return_train_score=True\n",
      "  warnings.warn(*warn_args, **warn_kwargs)\n",
      "C:\\ProgramData\\Anaconda3\\lib\\site-packages\\sklearn\\utils\\deprecation.py:122: FutureWarning: You are accessing a training score ('split0_train_score'), which will not be available by default any more in 0.21. If you need training scores, please set return_train_score=True\n",
      "  warnings.warn(*warn_args, **warn_kwargs)\n",
      "C:\\ProgramData\\Anaconda3\\lib\\site-packages\\sklearn\\utils\\deprecation.py:122: FutureWarning: You are accessing a training score ('split1_train_score'), which will not be available by default any more in 0.21. If you need training scores, please set return_train_score=True\n",
      "  warnings.warn(*warn_args, **warn_kwargs)\n",
      "C:\\ProgramData\\Anaconda3\\lib\\site-packages\\sklearn\\utils\\deprecation.py:122: FutureWarning: You are accessing a training score ('split2_train_score'), which will not be available by default any more in 0.21. If you need training scores, please set return_train_score=True\n",
      "  warnings.warn(*warn_args, **warn_kwargs)\n",
      "C:\\ProgramData\\Anaconda3\\lib\\site-packages\\sklearn\\utils\\deprecation.py:122: FutureWarning: You are accessing a training score ('split3_train_score'), which will not be available by default any more in 0.21. If you need training scores, please set return_train_score=True\n",
      "  warnings.warn(*warn_args, **warn_kwargs)\n",
      "C:\\ProgramData\\Anaconda3\\lib\\site-packages\\sklearn\\utils\\deprecation.py:122: FutureWarning: You are accessing a training score ('split4_train_score'), which will not be available by default any more in 0.21. If you need training scores, please set return_train_score=True\n",
      "  warnings.warn(*warn_args, **warn_kwargs)\n",
      "C:\\ProgramData\\Anaconda3\\lib\\site-packages\\sklearn\\utils\\deprecation.py:122: FutureWarning: You are accessing a training score ('std_train_score'), which will not be available by default any more in 0.21. If you need training scores, please set return_train_score=True\n",
      "  warnings.warn(*warn_args, **warn_kwargs)\n"
     ]
    }
   ],
   "source": [
    "# Lasso \n",
    "grid_get(Lasso(),train_X_pca,y_train,{'alpha': [0.0004,0.0005,0.0007,0.0009],'max_iter':[10000]})"
   ]
  },
  {
   "cell_type": "code",
   "execution_count": 333,
   "metadata": {},
   "outputs": [
    {
     "name": "stdout",
     "output_type": "stream",
     "text": [
      "{'alpha': 35} 0.11769679096673907\n",
      "          params  mean_test_score  std_test_score\n",
      "0  {'alpha': 35}         0.117697        0.001647\n",
      "1  {'alpha': 40}         0.118445        0.001645\n",
      "2  {'alpha': 45}         0.119180        0.001643\n",
      "3  {'alpha': 50}         0.119899        0.001642\n",
      "4  {'alpha': 55}         0.120602        0.001641\n",
      "5  {'alpha': 60}         0.121288        0.001640\n",
      "6  {'alpha': 65}         0.121958        0.001640\n",
      "7  {'alpha': 70}         0.122612        0.001641\n",
      "8  {'alpha': 80}         0.123874        0.001645\n",
      "9  {'alpha': 90}         0.125080        0.001652\n"
     ]
    },
    {
     "name": "stderr",
     "output_type": "stream",
     "text": [
      "C:\\ProgramData\\Anaconda3\\lib\\site-packages\\sklearn\\utils\\deprecation.py:122: FutureWarning: You are accessing a training score ('mean_train_score'), which will not be available by default any more in 0.21. If you need training scores, please set return_train_score=True\n",
      "  warnings.warn(*warn_args, **warn_kwargs)\n",
      "C:\\ProgramData\\Anaconda3\\lib\\site-packages\\sklearn\\utils\\deprecation.py:122: FutureWarning: You are accessing a training score ('split0_train_score'), which will not be available by default any more in 0.21. If you need training scores, please set return_train_score=True\n",
      "  warnings.warn(*warn_args, **warn_kwargs)\n",
      "C:\\ProgramData\\Anaconda3\\lib\\site-packages\\sklearn\\utils\\deprecation.py:122: FutureWarning: You are accessing a training score ('split1_train_score'), which will not be available by default any more in 0.21. If you need training scores, please set return_train_score=True\n",
      "  warnings.warn(*warn_args, **warn_kwargs)\n",
      "C:\\ProgramData\\Anaconda3\\lib\\site-packages\\sklearn\\utils\\deprecation.py:122: FutureWarning: You are accessing a training score ('split2_train_score'), which will not be available by default any more in 0.21. If you need training scores, please set return_train_score=True\n",
      "  warnings.warn(*warn_args, **warn_kwargs)\n",
      "C:\\ProgramData\\Anaconda3\\lib\\site-packages\\sklearn\\utils\\deprecation.py:122: FutureWarning: You are accessing a training score ('split3_train_score'), which will not be available by default any more in 0.21. If you need training scores, please set return_train_score=True\n",
      "  warnings.warn(*warn_args, **warn_kwargs)\n",
      "C:\\ProgramData\\Anaconda3\\lib\\site-packages\\sklearn\\utils\\deprecation.py:122: FutureWarning: You are accessing a training score ('split4_train_score'), which will not be available by default any more in 0.21. If you need training scores, please set return_train_score=True\n",
      "  warnings.warn(*warn_args, **warn_kwargs)\n",
      "C:\\ProgramData\\Anaconda3\\lib\\site-packages\\sklearn\\utils\\deprecation.py:122: FutureWarning: You are accessing a training score ('std_train_score'), which will not be available by default any more in 0.21. If you need training scores, please set return_train_score=True\n",
      "  warnings.warn(*warn_args, **warn_kwargs)\n"
     ]
    }
   ],
   "source": [
    "# Ridge \n",
    "grid_get(Ridge(),train_X_pca,y_train,{'alpha':[35,40,45,50,55,60,65,70,80,90]})"
   ]
  },
  {
   "cell_type": "code",
   "execution_count": 334,
   "metadata": {},
   "outputs": [
    {
     "name": "stdout",
     "output_type": "stream",
     "text": [
      "{'C': 15, 'epsilon': 0.008, 'gamma': 0.0004, 'kernel': 'rbf'} 0.11252377371690114\n",
      "                                               params  mean_test_score  \\\n",
      "0   {'C': 11, 'epsilon': 0.008, 'gamma': 0.0003, '...         0.114231   \n",
      "1   {'C': 11, 'epsilon': 0.008, 'gamma': 0.0004, '...         0.113357   \n",
      "2   {'C': 11, 'epsilon': 0.009, 'gamma': 0.0003, '...         0.114183   \n",
      "3   {'C': 11, 'epsilon': 0.009, 'gamma': 0.0004, '...         0.113347   \n",
      "4   {'C': 13, 'epsilon': 0.008, 'gamma': 0.0003, '...         0.113809   \n",
      "5   {'C': 13, 'epsilon': 0.008, 'gamma': 0.0004, '...         0.112883   \n",
      "6   {'C': 13, 'epsilon': 0.009, 'gamma': 0.0003, '...         0.113914   \n",
      "7   {'C': 13, 'epsilon': 0.009, 'gamma': 0.0004, '...         0.113024   \n",
      "8   {'C': 15, 'epsilon': 0.008, 'gamma': 0.0003, '...         0.113278   \n",
      "9   {'C': 15, 'epsilon': 0.008, 'gamma': 0.0004, '...         0.112524   \n",
      "10  {'C': 15, 'epsilon': 0.009, 'gamma': 0.0003, '...         0.113388   \n",
      "11  {'C': 15, 'epsilon': 0.009, 'gamma': 0.0004, '...         0.112592   \n",
      "\n",
      "    std_test_score  \n",
      "0         0.001883  \n",
      "1         0.001821  \n",
      "2         0.001873  \n",
      "3         0.001804  \n",
      "4         0.001901  \n",
      "5         0.001793  \n",
      "6         0.001903  \n",
      "7         0.001791  \n",
      "8         0.001907  \n",
      "9         0.001815  \n",
      "10        0.001897  \n",
      "11        0.001812  \n"
     ]
    },
    {
     "name": "stderr",
     "output_type": "stream",
     "text": [
      "C:\\ProgramData\\Anaconda3\\lib\\site-packages\\sklearn\\utils\\deprecation.py:122: FutureWarning: You are accessing a training score ('mean_train_score'), which will not be available by default any more in 0.21. If you need training scores, please set return_train_score=True\n",
      "  warnings.warn(*warn_args, **warn_kwargs)\n",
      "C:\\ProgramData\\Anaconda3\\lib\\site-packages\\sklearn\\utils\\deprecation.py:122: FutureWarning: You are accessing a training score ('split0_train_score'), which will not be available by default any more in 0.21. If you need training scores, please set return_train_score=True\n",
      "  warnings.warn(*warn_args, **warn_kwargs)\n",
      "C:\\ProgramData\\Anaconda3\\lib\\site-packages\\sklearn\\utils\\deprecation.py:122: FutureWarning: You are accessing a training score ('split1_train_score'), which will not be available by default any more in 0.21. If you need training scores, please set return_train_score=True\n",
      "  warnings.warn(*warn_args, **warn_kwargs)\n",
      "C:\\ProgramData\\Anaconda3\\lib\\site-packages\\sklearn\\utils\\deprecation.py:122: FutureWarning: You are accessing a training score ('split2_train_score'), which will not be available by default any more in 0.21. If you need training scores, please set return_train_score=True\n",
      "  warnings.warn(*warn_args, **warn_kwargs)\n",
      "C:\\ProgramData\\Anaconda3\\lib\\site-packages\\sklearn\\utils\\deprecation.py:122: FutureWarning: You are accessing a training score ('split3_train_score'), which will not be available by default any more in 0.21. If you need training scores, please set return_train_score=True\n",
      "  warnings.warn(*warn_args, **warn_kwargs)\n",
      "C:\\ProgramData\\Anaconda3\\lib\\site-packages\\sklearn\\utils\\deprecation.py:122: FutureWarning: You are accessing a training score ('split4_train_score'), which will not be available by default any more in 0.21. If you need training scores, please set return_train_score=True\n",
      "  warnings.warn(*warn_args, **warn_kwargs)\n",
      "C:\\ProgramData\\Anaconda3\\lib\\site-packages\\sklearn\\utils\\deprecation.py:122: FutureWarning: You are accessing a training score ('std_train_score'), which will not be available by default any more in 0.21. If you need training scores, please set return_train_score=True\n",
      "  warnings.warn(*warn_args, **warn_kwargs)\n"
     ]
    }
   ],
   "source": [
    "# SVR\n",
    "grid_get(SVR(),train_X_pca,y_train,{'C':[11,13,15],'kernel':[\"rbf\"],\n",
    "                                    \"gamma\":[0.0003,0.0004],\"epsilon\":[0.008,0.009]})"
   ]
  },
  {
   "cell_type": "code",
   "execution_count": 336,
   "metadata": {},
   "outputs": [
    {
     "name": "stdout",
     "output_type": "stream",
     "text": [
      "{'alpha': 0.4, 'coef0': 1, 'degree': 3, 'kernel': 'polynomial'} 0.11185529017696537\n",
      "                                              params  mean_test_score  \\\n",
      "0  {'alpha': 0.2, 'coef0': 0.8, 'degree': 3, 'ker...         0.112438   \n",
      "1  {'alpha': 0.2, 'coef0': 1, 'degree': 3, 'kerne...         0.112259   \n",
      "2  {'alpha': 0.3, 'coef0': 0.8, 'degree': 3, 'ker...         0.112451   \n",
      "3  {'alpha': 0.3, 'coef0': 1, 'degree': 3, 'kerne...         0.111918   \n",
      "4  {'alpha': 0.4, 'coef0': 0.8, 'degree': 3, 'ker...         0.112743   \n",
      "5  {'alpha': 0.4, 'coef0': 1, 'degree': 3, 'kerne...         0.111855   \n",
      "\n",
      "   std_test_score  \n",
      "0        0.000813  \n",
      "1        0.001003  \n",
      "2        0.000630  \n",
      "3        0.000776  \n",
      "4        0.000584  \n",
      "5        0.000668  \n"
     ]
    },
    {
     "name": "stderr",
     "output_type": "stream",
     "text": [
      "C:\\ProgramData\\Anaconda3\\lib\\site-packages\\sklearn\\utils\\deprecation.py:122: FutureWarning: You are accessing a training score ('mean_train_score'), which will not be available by default any more in 0.21. If you need training scores, please set return_train_score=True\n",
      "  warnings.warn(*warn_args, **warn_kwargs)\n",
      "C:\\ProgramData\\Anaconda3\\lib\\site-packages\\sklearn\\utils\\deprecation.py:122: FutureWarning: You are accessing a training score ('split0_train_score'), which will not be available by default any more in 0.21. If you need training scores, please set return_train_score=True\n",
      "  warnings.warn(*warn_args, **warn_kwargs)\n",
      "C:\\ProgramData\\Anaconda3\\lib\\site-packages\\sklearn\\utils\\deprecation.py:122: FutureWarning: You are accessing a training score ('split1_train_score'), which will not be available by default any more in 0.21. If you need training scores, please set return_train_score=True\n",
      "  warnings.warn(*warn_args, **warn_kwargs)\n",
      "C:\\ProgramData\\Anaconda3\\lib\\site-packages\\sklearn\\utils\\deprecation.py:122: FutureWarning: You are accessing a training score ('split2_train_score'), which will not be available by default any more in 0.21. If you need training scores, please set return_train_score=True\n",
      "  warnings.warn(*warn_args, **warn_kwargs)\n",
      "C:\\ProgramData\\Anaconda3\\lib\\site-packages\\sklearn\\utils\\deprecation.py:122: FutureWarning: You are accessing a training score ('split3_train_score'), which will not be available by default any more in 0.21. If you need training scores, please set return_train_score=True\n",
      "  warnings.warn(*warn_args, **warn_kwargs)\n",
      "C:\\ProgramData\\Anaconda3\\lib\\site-packages\\sklearn\\utils\\deprecation.py:122: FutureWarning: You are accessing a training score ('split4_train_score'), which will not be available by default any more in 0.21. If you need training scores, please set return_train_score=True\n",
      "  warnings.warn(*warn_args, **warn_kwargs)\n",
      "C:\\ProgramData\\Anaconda3\\lib\\site-packages\\sklearn\\utils\\deprecation.py:122: FutureWarning: You are accessing a training score ('std_train_score'), which will not be available by default any more in 0.21. If you need training scores, please set return_train_score=True\n",
      "  warnings.warn(*warn_args, **warn_kwargs)\n"
     ]
    }
   ],
   "source": [
    "# kernel Ridge\n",
    "param_grid={'alpha':[0.2,0.3,0.4], 'kernel':[\"polynomial\"], 'degree':[3],'coef0':[0.8,1]}\n",
    "grid_get(KernelRidge(),train_X_pca,y_train,param_grid)"
   ]
  },
  {
   "cell_type": "code",
   "execution_count": 337,
   "metadata": {},
   "outputs": [
    {
     "name": "stdout",
     "output_type": "stream",
     "text": [
      "{'alpha': 0.004, 'l1_ratio': 0.08, 'max_iter': 10000} 0.11369111821878929\n",
      "                                              params  mean_test_score  \\\n",
      "0  {'alpha': 0.0008, 'l1_ratio': 0.08, 'max_iter'...         0.113920   \n",
      "1  {'alpha': 0.0008, 'l1_ratio': 0.1, 'max_iter':...         0.113843   \n",
      "2  {'alpha': 0.0008, 'l1_ratio': 0.3, 'max_iter':...         0.113713   \n",
      "3  {'alpha': 0.004, 'l1_ratio': 0.08, 'max_iter':...         0.113691   \n",
      "4  {'alpha': 0.004, 'l1_ratio': 0.1, 'max_iter': ...         0.113816   \n",
      "5  {'alpha': 0.004, 'l1_ratio': 0.3, 'max_iter': ...         0.116616   \n",
      "6  {'alpha': 0.005, 'l1_ratio': 0.08, 'max_iter':...         0.113909   \n",
      "7  {'alpha': 0.005, 'l1_ratio': 0.1, 'max_iter': ...         0.114101   \n",
      "8  {'alpha': 0.005, 'l1_ratio': 0.3, 'max_iter': ...         0.118459   \n",
      "\n",
      "   std_test_score  \n",
      "0        0.001639  \n",
      "1        0.001635  \n",
      "2        0.001617  \n",
      "3        0.001610  \n",
      "4        0.001613  \n",
      "5        0.001690  \n",
      "6        0.001615  \n",
      "7        0.001619  \n",
      "8        0.001692  \n"
     ]
    },
    {
     "name": "stderr",
     "output_type": "stream",
     "text": [
      "C:\\ProgramData\\Anaconda3\\lib\\site-packages\\sklearn\\utils\\deprecation.py:122: FutureWarning: You are accessing a training score ('mean_train_score'), which will not be available by default any more in 0.21. If you need training scores, please set return_train_score=True\n",
      "  warnings.warn(*warn_args, **warn_kwargs)\n",
      "C:\\ProgramData\\Anaconda3\\lib\\site-packages\\sklearn\\utils\\deprecation.py:122: FutureWarning: You are accessing a training score ('split0_train_score'), which will not be available by default any more in 0.21. If you need training scores, please set return_train_score=True\n",
      "  warnings.warn(*warn_args, **warn_kwargs)\n",
      "C:\\ProgramData\\Anaconda3\\lib\\site-packages\\sklearn\\utils\\deprecation.py:122: FutureWarning: You are accessing a training score ('split1_train_score'), which will not be available by default any more in 0.21. If you need training scores, please set return_train_score=True\n",
      "  warnings.warn(*warn_args, **warn_kwargs)\n",
      "C:\\ProgramData\\Anaconda3\\lib\\site-packages\\sklearn\\utils\\deprecation.py:122: FutureWarning: You are accessing a training score ('split2_train_score'), which will not be available by default any more in 0.21. If you need training scores, please set return_train_score=True\n",
      "  warnings.warn(*warn_args, **warn_kwargs)\n",
      "C:\\ProgramData\\Anaconda3\\lib\\site-packages\\sklearn\\utils\\deprecation.py:122: FutureWarning: You are accessing a training score ('split3_train_score'), which will not be available by default any more in 0.21. If you need training scores, please set return_train_score=True\n",
      "  warnings.warn(*warn_args, **warn_kwargs)\n",
      "C:\\ProgramData\\Anaconda3\\lib\\site-packages\\sklearn\\utils\\deprecation.py:122: FutureWarning: You are accessing a training score ('split4_train_score'), which will not be available by default any more in 0.21. If you need training scores, please set return_train_score=True\n",
      "  warnings.warn(*warn_args, **warn_kwargs)\n",
      "C:\\ProgramData\\Anaconda3\\lib\\site-packages\\sklearn\\utils\\deprecation.py:122: FutureWarning: You are accessing a training score ('std_train_score'), which will not be available by default any more in 0.21. If you need training scores, please set return_train_score=True\n",
      "  warnings.warn(*warn_args, **warn_kwargs)\n"
     ]
    }
   ],
   "source": [
    "\n",
    "grid_get(ElasticNet(),train_X_pca,y_train,{'alpha':[0.0008,0.004,0.005],'l1_ratio':[0.08,0.1,0.3],'max_iter':[10000]})\n"
   ]
  },
  {
   "cell_type": "markdown",
   "metadata": {},
   "source": [
    "### Ensemble Methods\n",
    "    - Weight Average : 가장 결과가 좋았던 svr, ker만 가지고 만들자\n",
    "    - Stacking"
   ]
  },
  {
   "cell_type": "code",
   "execution_count": 344,
   "metadata": {},
   "outputs": [],
   "source": [
    "svr= SVR(C= 15, epsilon= 0.008, gamma= 0.0004, kernel= 'rbf')\n",
    "ker = KernelRidge(alpha= 0.4, coef0= 1, degree= 3, kernel= 'polynomial')"
   ]
  },
  {
   "cell_type": "code",
   "execution_count": 345,
   "metadata": {},
   "outputs": [],
   "source": [
    "# Averageweight\n",
    "class AverageWeight(BaseEstimator, RegressorMixin):\n",
    "    def __init__(self,mod,weight):\n",
    "        self.mod = mod\n",
    "        self.weight = weight\n",
    "        \n",
    "    def fit(self,X,y):\n",
    "        self.models_ = [clone(x) for x in self.mod]\n",
    "        for model in self.models_:\n",
    "            model.fit(X,y)\n",
    "        return self\n",
    "    \n",
    "    def predict(self,X):\n",
    "        w = list()\n",
    "        pred = np.array([model.predict(X) for model in self.models_])\n",
    "        # for every data point, single model prediction times weight, then add them together\n",
    "        for data in range(pred.shape[1]):\n",
    "            single = [pred[model,data]*weight for model,weight in zip(range(pred.shape[0]),self.weight)]\n",
    "            w.append(np.sum(single))\n",
    "        return w"
   ]
  },
  {
   "cell_type": "code",
   "execution_count": 346,
   "metadata": {},
   "outputs": [
    {
     "name": "stdout",
     "output_type": "stream",
     "text": [
      "0.1107716322554166\n"
     ]
    }
   ],
   "source": [
    "weight_avg = AverageWeight(mod = [svr,ker],weight = [0.5,0.5])\n",
    "score = rmse_cv(weight_avg,train_X_pca,y_train)\n",
    "print(score.mean())"
   ]
  },
  {
   "cell_type": "code",
   "execution_count": 347,
   "metadata": {},
   "outputs": [
    {
     "data": {
      "text/plain": [
       "AverageWeight(mod=[SVR(C=15, cache_size=200, coef0=0.0, degree=3, epsilon=0.008, gamma=0.0004,\n",
       "  kernel='rbf', max_iter=-1, shrinking=True, tol=0.001, verbose=False), KernelRidge(alpha=0.4, coef0=1, degree=3, gamma=None, kernel='polynomial',\n",
       "      kernel_params=None)],\n",
       "       weight=[0.5, 0.5])"
      ]
     },
     "execution_count": 347,
     "metadata": {},
     "output_type": "execute_result"
    }
   ],
   "source": [
    "weight_avg.fit(train_X_pca,y_train)"
   ]
  },
  {
   "cell_type": "markdown",
   "metadata": {},
   "source": [
    "### test error 확인\n",
    "    - 한번도 안본 데이터로 확인해보니 꽤 좋은 성적이 나온다"
   ]
  },
  {
   "cell_type": "code",
   "execution_count": 354,
   "metadata": {},
   "outputs": [
    {
     "name": "stdout",
     "output_type": "stream",
     "text": [
      "test error 0.10352860520111272\n"
     ]
    }
   ],
   "source": [
    "\n",
    "from sklearn.metrics import mean_squared_error\n",
    "print('test error', np.sqrt(mean_squared_error(weight_avg.predict(test_X_pca),y_test)))"
   ]
  },
  {
   "cell_type": "markdown",
   "metadata": {},
   "source": [
    "### Stacking"
   ]
  },
  {
   "cell_type": "code",
   "execution_count": 356,
   "metadata": {},
   "outputs": [],
   "source": [
    "class stacking(BaseEstimator, RegressorMixin, TransformerMixin):\n",
    "    def __init__(self,mod,meta_model):\n",
    "        self.mod = mod\n",
    "        self.meta_model = meta_model\n",
    "        self.kf = KFold(n_splits=5, random_state=42, shuffle=True)\n",
    "        \n",
    "    def fit(self,X,y):\n",
    "        self.saved_model = [list() for i in self.mod]\n",
    "        oof_train = np.zeros((X.shape[0], len(self.mod)))\n",
    "        \n",
    "        for i,model in enumerate(self.mod):\n",
    "            for train_index, val_index in self.kf.split(X,y):\n",
    "                renew_model = clone(model)\n",
    "                renew_model.fit(X[train_index], y[train_index])\n",
    "                self.saved_model[i].append(renew_model)\n",
    "                oof_train[val_index,i] = renew_model.predict(X[val_index])\n",
    "        \n",
    "        self.meta_model.fit(oof_train,y)\n",
    "        return self\n",
    "    \n",
    "    def predict(self,X):\n",
    "        whole_test = np.column_stack([np.column_stack(model.predict(X) for model in single_model).mean(axis=1) \n",
    "                                      for single_model in self.saved_model]) \n",
    "        return self.meta_model.predict(whole_test)\n",
    "    \n",
    "    # 첫 Layer에 있는 결과를 return 하는 것!\n",
    "    def get_oof(self,X,y,test_X):\n",
    "        oof = np.zeros((X.shape[0],len(self.mod)))\n",
    "        test_single = np.zeros((test_X.shape[0],5))\n",
    "        test_mean = np.zeros((test_X.shape[0],len(self.mod)))\n",
    "        for i,model in enumerate(self.mod):\n",
    "            for j, (train_index,val_index) in enumerate(self.kf.split(X,y)):\n",
    "                clone_model = clone(model)\n",
    "                clone_model.fit(X[train_index],y[train_index])\n",
    "                oof[val_index,i] = clone_model.predict(X[val_index])\n",
    "                test_single[:,j] = clone_model.predict(test_X)\n",
    "            test_mean[:,i] = test_single.mean(axis=1)\n",
    "        return oof, test_mean"
   ]
  },
  {
   "cell_type": "code",
   "execution_count": 358,
   "metadata": {},
   "outputs": [],
   "source": [
    "lasso = Lasso(alpha=0.0005,max_iter=10000)\n",
    "ridge = Ridge(alpha=60)\n",
    "svr = SVR(gamma= 0.0004,kernel='rbf',C=13,epsilon=0.009)\n",
    "ker = KernelRidge(alpha=0.2 ,kernel='polynomial',degree=3 , coef0=0.8)\n",
    "ela = ElasticNet(alpha=0.005,l1_ratio=0.08,max_iter=10000)\n",
    "bay = BayesianRidge()"
   ]
  },
  {
   "cell_type": "code",
   "execution_count": 369,
   "metadata": {},
   "outputs": [],
   "source": [
    "\n",
    "stack_model = stacking(mod=[lasso,ridge,svr,ker,ela,bay],meta_model=ker)"
   ]
  },
  {
   "cell_type": "code",
   "execution_count": 379,
   "metadata": {},
   "outputs": [
    {
     "name": "stderr",
     "output_type": "stream",
     "text": [
      "C:\\ProgramData\\Anaconda3\\lib\\site-packages\\ipykernel_launcher.py:3: FutureWarning: reshape is deprecated and will raise in a subsequent release. Please use .values.reshape(...) instead\n",
      "  This is separate from the ipykernel package so we can avoid doing imports until\n"
     ]
    },
    {
     "name": "stdout",
     "output_type": "stream",
     "text": [
      "0.11340663334587023\n"
     ]
    }
   ],
   "source": [
    "# must do imputer first, otherwise stacking won't work, and i don't know why.\n",
    "a = Imputer().fit_transform(train_X_pca)\n",
    "b = Imputer().fit_transform(y_train.reshape(-1,1)).ravel()\n",
    "\n",
    "score = rmse_cv(stack_model,a,b)\n",
    "print(score.mean())"
   ]
  },
  {
   "cell_type": "markdown",
   "metadata": {},
   "source": [
    "## Stacking test error"
   ]
  },
  {
   "cell_type": "code",
   "execution_count": 385,
   "metadata": {},
   "outputs": [
    {
     "name": "stderr",
     "output_type": "stream",
     "text": [
      "C:\\ProgramData\\Anaconda3\\lib\\site-packages\\ipykernel_launcher.py:2: FutureWarning: reshape is deprecated and will raise in a subsequent release. Please use .values.reshape(...) instead\n",
      "  \n"
     ]
    },
    {
     "name": "stdout",
     "output_type": "stream",
     "text": [
      "test error 0.09912602332635767\n"
     ]
    }
   ],
   "source": [
    "a = Imputer().fit_transform(train_X_pca)\n",
    "b = Imputer().fit_transform(y_train.reshape(-1,1)).ravel()\n",
    "\n",
    "stack_model.fit(a,b)\n",
    "# stack_model()\n",
    "print('test error', np.sqrt(mean_squared_error(stack_model.predict(test_X_pca),y_test)))"
   ]
  },
  {
   "cell_type": "code",
   "execution_count": null,
   "metadata": {},
   "outputs": [],
   "source": []
  }
 ],
 "metadata": {
  "kernelspec": {
   "display_name": "Python 3",
   "language": "python",
   "name": "python3"
  },
  "language_info": {
   "codemirror_mode": {
    "name": "ipython",
    "version": 3
   },
   "file_extension": ".py",
   "mimetype": "text/x-python",
   "name": "python",
   "nbconvert_exporter": "python",
   "pygments_lexer": "ipython3",
   "version": "3.6.5"
  }
 },
 "nbformat": 4,
 "nbformat_minor": 2
}
