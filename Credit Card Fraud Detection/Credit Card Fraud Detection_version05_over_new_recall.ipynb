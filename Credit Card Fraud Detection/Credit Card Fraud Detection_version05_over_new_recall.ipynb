{
  "cells": [
    {
      "metadata": {
        "_cell_guid": "9e507c14-248f-4eef-bdab-e8664a80ca4b",
        "_uuid": "38163763a64278937bb553db1915484e9761350d"
      },
      "cell_type": "markdown",
      "source": "1. ## Credit Card Fraud Detection"
    },
    {
      "metadata": {
        "_cell_guid": "f00bc7df-23f0-4850-9d82-0e59259f70ad",
        "_uuid": "483300344c3f52e72504d45b20653e7a0a3a90b1",
        "trusted": true
      },
      "cell_type": "code",
      "source": "# Load libraries for analysis and visualization\nimport pandas as pd # collection of functions for data processing and analysis modeled after R dataframes with SQL like features\nimport numpy as np  # foundational package for scientific computing\nimport re           # Regular expression operations\nimport matplotlib.pyplot as plt # Collection of functions for scientific and publication-ready visualization\n%matplotlib inline\n# import plotly.offline as py     # Open source library for composing, editing, and sharing interactive data visualization \nfrom matplotlib import pyplot\n# py.init_notebook_mode(connected=True)\n# import plotly.graph_objs as go\n# import plotly.tools as tls\n\nfrom collections import Counter\n\n# Machine learning libraries\n# import xgboost as xgb  # Implementation of gradient boosted decision trees designed for speed and performance that is dominative competitive machine learning\nimport seaborn as sns  # Visualization library based on matplotlib, provides interface for drawing attractive statistical graphics\n\nimport sklearn         # Collection of machine learning algorithms\nfrom sklearn.linear_model import LogisticRegression\nfrom sklearn.svm import SVC, LinearSVC\nfrom sklearn.ensemble import (RandomForestClassifier, AdaBoostClassifier, \n                              GradientBoostingClassifier, ExtraTreesClassifier, VotingClassifier)\nfrom sklearn.cross_validation import KFold\nfrom sklearn.neighbors import KNeighborsClassifier\nfrom sklearn.naive_bayes import GaussianNB\nfrom sklearn.linear_model import Perceptron\nfrom sklearn.linear_model import SGDClassifier\nfrom sklearn.tree import DecisionTreeClassifier\nfrom sklearn.model_selection import GridSearchCV, cross_val_score, StratifiedKFold, learning_curve\nfrom sklearn.preprocessing import RobustScaler\nimport lightgbm as lgb\n\nimport warnings\nwarnings.filterwarnings('ignore')",
      "execution_count": 1,
      "outputs": [
        {
          "name": "stderr",
          "output_type": "stream",
          "text": "/opt/conda/lib/python3.6/site-packages/sklearn/cross_validation.py:41: DeprecationWarning: This module was deprecated in version 0.18 in favor of the model_selection module into which all the refactored classes and functions are moved. Also note that the interface of the new CV iterators are different from that of this module. This module will be removed in 0.20.\n  \"This module will be removed in 0.20.\", DeprecationWarning)\n"
        }
      ]
    },
    {
      "metadata": {
        "_cell_guid": "4d270a25-ff0c-4b8a-9a67-0f03f56e99c0",
        "_kg_hide-input": true,
        "_uuid": "16e4b3ac4c20d53fd8847a28c6d23ce7af8503a8",
        "trusted": true
      },
      "cell_type": "code",
      "source": "df = pd.read_csv(\"../input/creditcard.csv\")\ndf.head()",
      "execution_count": 2,
      "outputs": [
        {
          "data": {
            "text/html": "<div>\n<style scoped>\n    .dataframe tbody tr th:only-of-type {\n        vertical-align: middle;\n    }\n\n    .dataframe tbody tr th {\n        vertical-align: top;\n    }\n\n    .dataframe thead th {\n        text-align: right;\n    }\n</style>\n<table border=\"1\" class=\"dataframe\">\n  <thead>\n    <tr style=\"text-align: right;\">\n      <th></th>\n      <th>Time</th>\n      <th>V1</th>\n      <th>V2</th>\n      <th>V3</th>\n      <th>V4</th>\n      <th>V5</th>\n      <th>V6</th>\n      <th>V7</th>\n      <th>V8</th>\n      <th>V9</th>\n      <th>...</th>\n      <th>V21</th>\n      <th>V22</th>\n      <th>V23</th>\n      <th>V24</th>\n      <th>V25</th>\n      <th>V26</th>\n      <th>V27</th>\n      <th>V28</th>\n      <th>Amount</th>\n      <th>Class</th>\n    </tr>\n  </thead>\n  <tbody>\n    <tr>\n      <th>0</th>\n      <td>0.0</td>\n      <td>-1.359807</td>\n      <td>-0.072781</td>\n      <td>2.536347</td>\n      <td>1.378155</td>\n      <td>-0.338321</td>\n      <td>0.462388</td>\n      <td>0.239599</td>\n      <td>0.098698</td>\n      <td>0.363787</td>\n      <td>...</td>\n      <td>-0.018307</td>\n      <td>0.277838</td>\n      <td>-0.110474</td>\n      <td>0.066928</td>\n      <td>0.128539</td>\n      <td>-0.189115</td>\n      <td>0.133558</td>\n      <td>-0.021053</td>\n      <td>149.62</td>\n      <td>0</td>\n    </tr>\n    <tr>\n      <th>1</th>\n      <td>0.0</td>\n      <td>1.191857</td>\n      <td>0.266151</td>\n      <td>0.166480</td>\n      <td>0.448154</td>\n      <td>0.060018</td>\n      <td>-0.082361</td>\n      <td>-0.078803</td>\n      <td>0.085102</td>\n      <td>-0.255425</td>\n      <td>...</td>\n      <td>-0.225775</td>\n      <td>-0.638672</td>\n      <td>0.101288</td>\n      <td>-0.339846</td>\n      <td>0.167170</td>\n      <td>0.125895</td>\n      <td>-0.008983</td>\n      <td>0.014724</td>\n      <td>2.69</td>\n      <td>0</td>\n    </tr>\n    <tr>\n      <th>2</th>\n      <td>1.0</td>\n      <td>-1.358354</td>\n      <td>-1.340163</td>\n      <td>1.773209</td>\n      <td>0.379780</td>\n      <td>-0.503198</td>\n      <td>1.800499</td>\n      <td>0.791461</td>\n      <td>0.247676</td>\n      <td>-1.514654</td>\n      <td>...</td>\n      <td>0.247998</td>\n      <td>0.771679</td>\n      <td>0.909412</td>\n      <td>-0.689281</td>\n      <td>-0.327642</td>\n      <td>-0.139097</td>\n      <td>-0.055353</td>\n      <td>-0.059752</td>\n      <td>378.66</td>\n      <td>0</td>\n    </tr>\n    <tr>\n      <th>3</th>\n      <td>1.0</td>\n      <td>-0.966272</td>\n      <td>-0.185226</td>\n      <td>1.792993</td>\n      <td>-0.863291</td>\n      <td>-0.010309</td>\n      <td>1.247203</td>\n      <td>0.237609</td>\n      <td>0.377436</td>\n      <td>-1.387024</td>\n      <td>...</td>\n      <td>-0.108300</td>\n      <td>0.005274</td>\n      <td>-0.190321</td>\n      <td>-1.175575</td>\n      <td>0.647376</td>\n      <td>-0.221929</td>\n      <td>0.062723</td>\n      <td>0.061458</td>\n      <td>123.50</td>\n      <td>0</td>\n    </tr>\n    <tr>\n      <th>4</th>\n      <td>2.0</td>\n      <td>-1.158233</td>\n      <td>0.877737</td>\n      <td>1.548718</td>\n      <td>0.403034</td>\n      <td>-0.407193</td>\n      <td>0.095921</td>\n      <td>0.592941</td>\n      <td>-0.270533</td>\n      <td>0.817739</td>\n      <td>...</td>\n      <td>-0.009431</td>\n      <td>0.798278</td>\n      <td>-0.137458</td>\n      <td>0.141267</td>\n      <td>-0.206010</td>\n      <td>0.502292</td>\n      <td>0.219422</td>\n      <td>0.215153</td>\n      <td>69.99</td>\n      <td>0</td>\n    </tr>\n  </tbody>\n</table>\n<p>5 rows × 31 columns</p>\n</div>",
            "text/plain": "   Time        V1        V2        V3        V4        V5        V6        V7  \\\n0   0.0 -1.359807 -0.072781  2.536347  1.378155 -0.338321  0.462388  0.239599   \n1   0.0  1.191857  0.266151  0.166480  0.448154  0.060018 -0.082361 -0.078803   \n2   1.0 -1.358354 -1.340163  1.773209  0.379780 -0.503198  1.800499  0.791461   \n3   1.0 -0.966272 -0.185226  1.792993 -0.863291 -0.010309  1.247203  0.237609   \n4   2.0 -1.158233  0.877737  1.548718  0.403034 -0.407193  0.095921  0.592941   \n\n         V8        V9  ...         V21       V22       V23       V24  \\\n0  0.098698  0.363787  ...   -0.018307  0.277838 -0.110474  0.066928   \n1  0.085102 -0.255425  ...   -0.225775 -0.638672  0.101288 -0.339846   \n2  0.247676 -1.514654  ...    0.247998  0.771679  0.909412 -0.689281   \n3  0.377436 -1.387024  ...   -0.108300  0.005274 -0.190321 -1.175575   \n4 -0.270533  0.817739  ...   -0.009431  0.798278 -0.137458  0.141267   \n\n        V25       V26       V27       V28  Amount  Class  \n0  0.128539 -0.189115  0.133558 -0.021053  149.62      0  \n1  0.167170  0.125895 -0.008983  0.014724    2.69      0  \n2 -0.327642 -0.139097 -0.055353 -0.059752  378.66      0  \n3  0.647376 -0.221929  0.062723  0.061458  123.50      0  \n4 -0.206010  0.502292  0.219422  0.215153   69.99      0  \n\n[5 rows x 31 columns]"
          },
          "execution_count": 2,
          "metadata": {},
          "output_type": "execute_result"
        }
      ]
    },
    {
      "metadata": {
        "_cell_guid": "b29e5a4c-ebcc-4770-9fe1-55562b1af3a2",
        "_uuid": "25231760931fd38d08844ebc2d2bee5719e62e29",
        "trusted": true
      },
      "cell_type": "code",
      "source": "import os\nos.cpu_count()",
      "execution_count": 3,
      "outputs": [
        {
          "data": {
            "text/plain": "32"
          },
          "execution_count": 3,
          "metadata": {},
          "output_type": "execute_result"
        }
      ]
    },
    {
      "metadata": {
        "_cell_guid": "02d3e50e-820b-4833-aea4-9b09d48110d2",
        "_uuid": "b67bbd16a6ce0554c737343007d88eb5c72c83c5"
      },
      "cell_type": "markdown",
      "source": "### 1. EDA : Exploration Data Analysis + Feature engineering"
    },
    {
      "metadata": {
        "_cell_guid": "987d4bfc-e85f-4ad9-a8c7-0d8fa5a9b93e",
        "_uuid": "d54d6993e5d375f2a980cf0b7857d4717238ccd4"
      },
      "cell_type": "markdown",
      "source": "### 1-1 Correalation\n    - PCA를 한 결과이기 때문에 전체를 보내는 것은 의미 없다\n    - 시간과 amount, Class 만 봐보자"
    },
    {
      "metadata": {
        "_cell_guid": "ed0c5522-db01-44f9-82e8-6f718f432e32",
        "_uuid": "c30f73594a4c105766a5eba24b70c56b2898f8c1"
      },
      "cell_type": "markdown",
      "source": "- amount와 Class 간의 그래프\n    - amount가 낮을 수록 Fraud 일 확률이 높다\n    - amount가 심하게 skew 되어 있다. -> 로그를 씌워주자"
    },
    {
      "metadata": {
        "_cell_guid": "3e352da0-4ed4-4422-98fd-5ee3165f568e",
        "_uuid": "2697cf2a1dd37759d9a161736b7f64e62328077a",
        "trusted": true
      },
      "cell_type": "code",
      "source": "## amount + Class\n#plot distributions of age of passengers who survived or did not survive\na = sns.FacetGrid( df, hue = 'Class', aspect=4 ) # 여러개의 그림을 그리기\na.map(sns.kdeplot, 'Amount', shade= True ) # 해당하는 모든 그림에 kdeplot 넣기 # 점을 이어준다!\na.set(xlim=(0 , df['Amount'].max()/3))\na.add_legend()",
      "execution_count": 4,
      "outputs": [
        {
          "data": {
            "text/plain": "<seaborn.axisgrid.FacetGrid at 0x7fe085fd43c8>"
          },
          "execution_count": 4,
          "metadata": {},
          "output_type": "execute_result"
        },
        {
          "data": {
            "image/png": "[encoded data removed]",
            "text/plain": "<matplotlib.figure.Figure at 0x7fe086032f60>"
          },
          "metadata": {},
          "output_type": "display_data"
        }
      ]
    },
    {
      "metadata": {
        "_cell_guid": "d7271d3f-35e6-48ad-a880-4e2504abed08",
        "_uuid": "7cb9ee5ad5f5cec2703a4023544134f53017a789",
        "trusted": true
      },
      "cell_type": "code",
      "source": "# log(1+Amount) 분포\ng= sns.distplot(np.log1p(df[\"Amount\"]), color = 'b', label = \"Skewness : %.2f\" % np.log1p(df[\"Amount\"]).skew())\ng= g.legend(loc= \"best\")\n\n\ndf['Amount'] = np.log1p(df[\"Amount\"])",
      "execution_count": 5,
      "outputs": [
        {
          "data": {
            "image/png": "[encoded data removed]",
            "text/plain": "<matplotlib.figure.Figure at 0x7fe0e3704588>"
          },
          "metadata": {},
          "output_type": "display_data"
        }
      ]
    },
    {
      "metadata": {
        "_cell_guid": "593d6f80-433e-46a8-b093-371aabf134b5",
        "_uuid": "360e788eacfb230b7198167d5dd2b9c5dcec4fd4"
      },
      "cell_type": "markdown",
      "source": "- log(1+amount)와 Fraud 발생율 비교\n    - Amount가 0.5 미만일때는 Fraud가 발생할 확률이 압도적으로 높다.\n    - 1.7 이상일 때는 Class 가 0일 확률이 더 높다.\n    - 이러한 Feature를 추가해주자"
    },
    {
      "metadata": {
        "_cell_guid": "9ec9a4f5-be38-41ec-b590-b53eff357502",
        "_uuid": "0995b442e3b7d53fde197cc17e5927ccbaee0337",
        "trusted": true
      },
      "cell_type": "code",
      "source": "## amount + Class\n#plot distributions of age of passengers who survived or did not survive\na = sns.FacetGrid( df, hue = 'Class', aspect=4 ) # 여러개의 그림을 그리기\na.map(sns.kdeplot, 'Amount', shade= True ) # 해당하는 모든 그림에 kdeplot 넣기 # 점을 이어준다!\na.set(xlim=(0 , df['Amount'].max()/3))\na.add_legend()",
      "execution_count": 6,
      "outputs": [
        {
          "data": {
            "text/plain": "<seaborn.axisgrid.FacetGrid at 0x7fe084fb6400>"
          },
          "execution_count": 6,
          "metadata": {},
          "output_type": "execute_result"
        },
        {
          "data": {
            "image/png": "[encoded data removed]",
            "text/plain": "<matplotlib.figure.Figure at 0x7fe0e37f3128>"
          },
          "metadata": {},
          "output_type": "display_data"
        }
      ]
    },
    {
      "metadata": {
        "_cell_guid": "f24a65f9-e891-4d26-a93c-057e8b3b04c1",
        "_uuid": "4c9cdd1cdcfaa4470aa33be68d4dc5cea60cc681",
        "collapsed": true,
        "trusted": true
      },
      "cell_type": "code",
      "source": "# Feature 추가\n\ndef changing(x):\n    if x < 0.5 : result = 'A'\n    elif x < 1.7 : result = 'B'\n    else :result = 'C'\n    return result\n    \ndf['Amount_class']= df['Amount'].map(changing)",
      "execution_count": 7,
      "outputs": []
    },
    {
      "metadata": {
        "_cell_guid": "dd1d2b2d-d9f9-4ca0-a857-d5ce4086c5d2",
        "_uuid": "7025d82e0e6d59d7fb92ba7f9724421c50ba6da8"
      },
      "cell_type": "markdown",
      "source": "#### time과 Class 간의 관계\n    - 특정 Time에는 Fraud(Class= 1)이 발생할 확률이 더 높다.\n    - 정상 Transaction은 발생하는 주기가 있지만, Fraud는 꾸준하다\n      즉 특정 시간대에는 Fraud가 일어날 확률이 더 높다고 예측하면 된다.\n    - Feature를 추가하자"
    },
    {
      "metadata": {
        "_cell_guid": "38229820-dae1-4476-b45d-ae110f99411c",
        "_uuid": "b3e90261051bc9d02cbd9fdc37accdd744e6d0eb",
        "trusted": true
      },
      "cell_type": "code",
      "source": "## amount + Class\n#plot distributions of age of passengers who survived or did not survive\na = sns.FacetGrid( df, hue = 'Class', aspect=4 ) # 여러개의 그림을 그리기\na.map(sns.kdeplot, 'Time', shade= True ) # 해당하는 모든 그림에 kdeplot 넣기 # 점을 이어준다!\na.set(xlim=(0 , df['Time'].max()))\na.add_legend()",
      "execution_count": 8,
      "outputs": [
        {
          "data": {
            "text/plain": "<seaborn.axisgrid.FacetGrid at 0x7fe084fe5550>"
          },
          "execution_count": 8,
          "metadata": {},
          "output_type": "execute_result"
        },
        {
          "data": {
            "image/png": "[encoded data removed]",
            "text/plain": "<matplotlib.figure.Figure at 0x7fe084f90b38>"
          },
          "metadata": {},
          "output_type": "display_data"
        }
      ]
    },
    {
      "metadata": {
        "_cell_guid": "1435bbc6-e0b7-4520-a489-894b7b0da98a",
        "_uuid": "877b66fd15d3dbc6f9b049ca9606f84db54315d6",
        "collapsed": true,
        "trusted": true
      },
      "cell_type": "code",
      "source": "# Time Class 변경 : Feature 추가\ndef temp(x):\n    if x<40000 : result = 'A'\n    elif   x<82000 : result = 'B'\n    elif  x<120000 : result = 'C'\n    else : result = 'D'\n    return result\n\ndf['Time'] = df['Time'].map(temp)",
      "execution_count": 9,
      "outputs": []
    },
    {
      "metadata": {
        "_cell_guid": "9a7acc3c-1588-46be-b0fb-455698ae253f",
        "_uuid": "27a21d27c1f0a48989d11b99edf9010123a8dbe2"
      },
      "cell_type": "markdown",
      "source": "### 2 class 비율 확인하기\n    - class 가 1인 것이 너무 적다 !\n    - Oversampling, undersampling\n        - oversampling은 거짓말이 될 수 있고\n          undersampling은 부분만 볼수가 있다. \n    - classfier에서 가중치를 주는 방법이 있다.\n    "
    },
    {
      "metadata": {
        "_cell_guid": "ba3933c8-b1b8-4477-9eaa-66c8d57618f0",
        "_uuid": "44d16c49894aed6e8ae4d62856e31d0b52dc4276",
        "collapsed": true,
        "trusted": true
      },
      "cell_type": "code",
      "source": "plt.hist(df['Class'],bins = 10)",
      "execution_count": null,
      "outputs": []
    },
    {
      "metadata": {
        "_cell_guid": "100acf95-20bb-41d5-8f77-2a636dfee70f",
        "_uuid": "f773d3bcd0f8242b6b761231ef5b2b8b78da8ab3"
      },
      "cell_type": "markdown",
      "source": "### 3. Feature importance \n    - 어떤 변수가 중요한 것인가\n    - random forest로 뽑아보자\n    - V14, V10, V17,  V12, V3 가 가장 영향력이 있는 것으로 나온다."
    },
    {
      "metadata": {
        "_cell_guid": "19108169-0473-4180-bec7-aa024f35a498",
        "_uuid": "e218cdfd19c3ee080b0c1b6777a70d732223e82e",
        "collapsed": true,
        "trusted": true
      },
      "cell_type": "code",
      "source": "fi_df = pd.get_dummies(df)",
      "execution_count": 10,
      "outputs": []
    },
    {
      "metadata": {
        "_cell_guid": "e770fbbe-86cc-433b-a0c1-92be6054576f",
        "_uuid": "2b039159cab48a93fc051c9a093c25865b0751d6",
        "trusted": true
      },
      "cell_type": "code",
      "source": "RF = RandomForestClassifier(n_estimators = 100, class_weight = {0:0.5,1:100},n_jobs=10)\nRF.fit(fi_df.drop('Class',axis= 1),fi_df['Class'])\n",
      "execution_count": 11,
      "outputs": [
        {
          "data": {
            "text/plain": "RandomForestClassifier(bootstrap=True, class_weight={0: 0.5, 1: 100},\n            criterion='gini', max_depth=None, max_features='auto',\n            max_leaf_nodes=None, min_impurity_decrease=0.0,\n            min_impurity_split=None, min_samples_leaf=1,\n            min_samples_split=2, min_weight_fraction_leaf=0.0,\n            n_estimators=100, n_jobs=10, oob_score=False,\n            random_state=None, verbose=0, warm_start=False)"
          },
          "execution_count": 11,
          "metadata": {},
          "output_type": "execute_result"
        }
      ]
    },
    {
      "metadata": {
        "_cell_guid": "f995a4e6-7b5e-43d7-b4df-7a065510adea",
        "_uuid": "a205dbe1430db7b21c8303643217f320bd460011",
        "trusted": true
      },
      "cell_type": "code",
      "source": "Importance = pd.DataFrame({'FI' :RF.feature_importances_},\n                                index = fi_df.drop('Class',axis= 1).columns)\\\n                     .sort_values(\"FI\",ascending= False)\nImportance.head()",
      "execution_count": 12,
      "outputs": [
        {
          "data": {
            "text/html": "<div>\n<style scoped>\n    .dataframe tbody tr th:only-of-type {\n        vertical-align: middle;\n    }\n\n    .dataframe tbody tr th {\n        vertical-align: top;\n    }\n\n    .dataframe thead th {\n        text-align: right;\n    }\n</style>\n<table border=\"1\" class=\"dataframe\">\n  <thead>\n    <tr style=\"text-align: right;\">\n      <th></th>\n      <th>FI</th>\n    </tr>\n  </thead>\n  <tbody>\n    <tr>\n      <th>V14</th>\n      <td>0.154245</td>\n    </tr>\n    <tr>\n      <th>V12</th>\n      <td>0.151010</td>\n    </tr>\n    <tr>\n      <th>V10</th>\n      <td>0.125062</td>\n    </tr>\n    <tr>\n      <th>V11</th>\n      <td>0.096757</td>\n    </tr>\n    <tr>\n      <th>V17</th>\n      <td>0.096283</td>\n    </tr>\n  </tbody>\n</table>\n</div>",
            "text/plain": "           FI\nV14  0.154245\nV12  0.151010\nV10  0.125062\nV11  0.096757\nV17  0.096283"
          },
          "execution_count": 12,
          "metadata": {},
          "output_type": "execute_result"
        }
      ]
    },
    {
      "metadata": {
        "_cell_guid": "92cf5030-131a-4582-9fd0-f4673f17b767",
        "_uuid": "956cf203d380ebfe0260cf2d7e277d3e4ffda3f5",
        "trusted": true
      },
      "cell_type": "code",
      "source": "fig, axes=  plt.subplots(figsize = (12,10))\ng = sns.barplot(y=Importance.index, x= Importance.FI)",
      "execution_count": 13,
      "outputs": [
        {
          "data": {
            "image/png": "[encoded data removed]",
            "text/plain": "<matplotlib.figure.Figure at 0x7fe084f24208>"
          },
          "metadata": {},
          "output_type": "display_data"
        }
      ]
    },
    {
      "metadata": {
        "_cell_guid": "e87b137d-d59f-4e25-b383-cf0b958e11e6",
        "_uuid": "46fb9dee957babbd79a8e25caeaa2961f5be7338"
      },
      "cell_type": "markdown",
      "source": "### 4. Test train split"
    },
    {
      "metadata": {
        "_cell_guid": "b8090c02-9c85-4cd5-b8a2-6c15b1a7564d",
        "_uuid": "b8d542dcdb9788caf004f93e80d28696d381757b",
        "collapsed": true,
        "trusted": true
      },
      "cell_type": "code",
      "source": "from sklearn.model_selection import train_test_split\ndf_dummies = pd.get_dummies(df,drop_first = True)\ntrain, test = train_test_split(df_dummies, test_size = 0.2, random_state = 42)\nx_train, y_train = train.drop('Class', axis = 1), train.loc[:,['Class']]\nx_test, y_test = test.drop('Class', axis = 1), test.loc[:,['Class']]\n# y_train\n# print(train.Class.value_counts())\n# print(test.Class.value_counts())",
      "execution_count": 14,
      "outputs": []
    },
    {
      "metadata": {
        "_cell_guid": "57c0d7d9-093e-4d4f-87ca-93bdd1c21921",
        "_uuid": "39c7043b219f90bd2456202702519cc8bd3251f3"
      },
      "cell_type": "markdown",
      "source": "### 4. Sampling - Oversampling\n    - pipeline을 만드는 방법과 단순 하나 fitting 하는 방법이 있는데\n    - pipeline은 테이블 하나는 가능하지만 두개는 잘 안된다.\n    - Over sampling을 실시한다"
    },
    {
      "metadata": {
        "_cell_guid": "b97b2f72-25a8-42e6-8a83-a7769fff0fca",
        "_uuid": "0e9c43895183f161c063ce20638dfa7addc9cd7b",
        "collapsed": true,
        "trusted": true
      },
      "cell_type": "code",
      "source": "# def resampling(x_train, y_train):\n#     number_fraud = len(y_train[y_train['Class']==1])\n#     fraud_index = y_train[y_train['Class']==1].index\n#     normal_index =  y_train[y_train['Class']==0].index\n\n#     # random choice , 5배를 가져오자\n#     random_index =  np.random.choice(normal_index,number_fraud*5,replace = False)\n#     index = np.concatenate([fraud_index,random_index])\n\n#     inputs = x_train.loc[index,:]\n#     output = y_train.loc[index,:]\n#     return inputs, output\n\nfrom imblearn.over_sampling import SMOTE \ndef resampling(x_train, y_train):\n    sm = SMOTE(random_state=42)\n    inputs, outputs = sm.fit_sample(x_train, y_train)\n    return inputs, outputs\ninputs, outputs = resampling(x_train,y_train)\ninputs = pd.DataFrame(inputs, columns = x_train.columns)\noutputs =  pd.DataFrame(outputs, columns = y_train.columns)\n\n",
      "execution_count": 15,
      "outputs": []
    },
    {
      "metadata": {
        "_cell_guid": "b673229e-2377-4ac4-8761-3f1eb38e6c83",
        "_uuid": "c7258c35b9c9c1f7cfa421e90eb4085755a21e82",
        "collapsed": true,
        "trusted": true
      },
      "cell_type": "code",
      "source": "# outputs.Class.value_counts()",
      "execution_count": null,
      "outputs": []
    },
    {
      "metadata": {
        "_cell_guid": "24904acd-4e94-4fc9-8d91-563890981489",
        "_uuid": "d5872492763fae84e13f0b693926d3c52b162271"
      },
      "cell_type": "markdown",
      "source": "### 5.  Simple Modeling - undersampling\n    - undersampling 한 데이터로 Fitting 하는 모델이 더 성능이 좋다(Whole data 대비)"
    },
    {
      "metadata": {
        "_cell_guid": "2472e5b2-e3a2-4678-ae27-d1c57c38c7df",
        "_uuid": "937b663e1186c5846727470bc8321ee9b04f9108"
      },
      "cell_type": "markdown",
      "source": "- Logistic Regression"
    },
    {
      "metadata": {
        "_cell_guid": "350462da-6aee-419c-98d2-86eef8e7dd93",
        "_uuid": "748e6c16e356e769a5d9bfb5e58b9c229c2eded0",
        "trusted": true
      },
      "cell_type": "code",
      "source": "from sklearn import metrics\nlogit= LogisticRegression( penalty = 'l1',n_jobs=20)\nlogit.fit(inputs,outputs)\ny_predict = logit.predict_proba(x_test)\n\n# logit.predict_proba\n# auc 값\n# print(y_predict[:,1])\nfpr, tpr, thresholds = metrics.roc_curve(y_test.values.ravel(), y_predict[:,1])\nauc = metrics.auc(fpr, tpr)\nprediction= logit.predict(x_test)\nrecall = metrics.recall_score( y_test.values.ravel(),prediction)\nprint(\"auc \", auc, \"recall\", recall)",
      "execution_count": 16,
      "outputs": [
        {
          "name": "stdout",
          "output_type": "stream",
          "text": "auc  0.9799446297933918 recall 0.9183673469387755\n"
        }
      ]
    },
    {
      "metadata": {
        "_cell_guid": "45f33e7b-9845-428a-92ef-cd8f84a6de7b",
        "_uuid": "aa432c749ba9e9d1dc3f33f3a9537839481c2119"
      },
      "cell_type": "markdown",
      "source": "- SVM"
    },
    {
      "metadata": {
        "_cell_guid": "ad029e04-9036-4d82-a5bf-3eaa5aa8fe24",
        "_uuid": "15e435bafd91592a114c8650f1ba494bdef3c311",
        "collapsed": true,
        "trusted": true
      },
      "cell_type": "code",
      "source": "# svc = SVC()\n# svc.fit(inputs,outputs)\n# pred = svc.predict(x_test)\n# fpr, tpr, thresholds = metrics.roc_curve(y_test.values.ravel(), pred)\n# metrics.auc(fpr, tpr)",
      "execution_count": null,
      "outputs": []
    },
    {
      "metadata": {
        "_cell_guid": "62abf6e2-8b42-4604-8bbb-34e0b2c2aad3",
        "_uuid": "8abc72c97ce876bd6405b8df6254f8d86e07a62a"
      },
      "cell_type": "markdown",
      "source": "- K-Nearest Neighbors (KNN)"
    },
    {
      "metadata": {
        "_cell_guid": "25d47d86-4f5e-48b7-a381-555e946a43b9",
        "_uuid": "77254d6dceb838377cba090e5378e85171f72421",
        "collapsed": true,
        "trusted": true
      },
      "cell_type": "code",
      "source": "# knn = KNeighborsClassifier(n_neighbors = 3,n_jobs=20)\n# knn.fit(inputs,outputs)\n# pred = knn.predict(x_test)\n# fpr, tpr, thresholds = metrics.roc_curve(y_test.values.ravel(), pred)\n# metrics.auc(fpr, tpr)",
      "execution_count": null,
      "outputs": []
    },
    {
      "metadata": {
        "_cell_guid": "5596ac1b-91e1-4a99-9ab5-c2a8879773eb",
        "_uuid": "57d5cac29f3229871c7998a48c59920f7f93e636"
      },
      "cell_type": "markdown",
      "source": "- Naive Bayes Classfier"
    },
    {
      "metadata": {
        "_cell_guid": "50974d1a-b538-4a7d-90f4-5ea40e86b049",
        "_uuid": "801a68608b67862462c21149ae89e6bf83e1a4da",
        "collapsed": true,
        "trusted": true
      },
      "cell_type": "code",
      "source": "# gaussian = GaussianNB()\n# gaussian.fit(inputs,outputs)\n# Y_pred = gaussian.predict(x_test)\n# fpr, tpr, thresholds = metrics.roc_curve(y_test.values.ravel(), pred)\n# metrics.auc(fpr, tpr)",
      "execution_count": null,
      "outputs": []
    },
    {
      "metadata": {
        "_cell_guid": "90c6eb85-3f37-42bd-bdc1-2353b214f5d5",
        "_uuid": "03b4611999bae61fbe10a4de9312a93ede63b898"
      },
      "cell_type": "markdown",
      "source": "- Decision Tree"
    },
    {
      "metadata": {
        "_cell_guid": "174ed819-766a-4c90-8e04-5a7b6862eec9",
        "_uuid": "f6577b9c24d1cce706e9dfd061ba8430aa8f47cf",
        "collapsed": true,
        "trusted": true
      },
      "cell_type": "code",
      "source": "# decision_tree = DecisionTreeClassifier()\n# decision_tree.fit(inputs,outputs)\n# pred = decision_tree.predict(x_test)\n# fpr, tpr, thresholds = metrics.roc_curve(y_test.values.ravel(), pred)\n# metrics.auc(fpr, tpr)",
      "execution_count": null,
      "outputs": []
    },
    {
      "metadata": {
        "_cell_guid": "e085056e-6b99-46ac-8cf9-451ada9be3f5",
        "_uuid": "3b0e77c69fc6011a8877a3654099607d61c8930b"
      },
      "cell_type": "markdown",
      "source": "- Randomforest"
    },
    {
      "metadata": {
        "_cell_guid": "192242fd-b7c2-4df3-a3c1-f261517e41fe",
        "_uuid": "8f22fef56ad41d19f3d28e95fbc4c792fc708e63",
        "trusted": true
      },
      "cell_type": "code",
      "source": "random_forest = RandomForestClassifier(n_estimators=100, n_jobs = 20)\nrandom_forest.fit(inputs,outputs)\npred = random_forest.predict_proba(x_test)\nfpr, tpr, thresholds = metrics.roc_curve(y_test.values.ravel(), pred[:,1])\nauc = metrics.auc(fpr, tpr)\nprediction= logit.predict(x_test)\nrecall = metrics.recall_score( y_test.values.ravel(),prediction)\nprint(\"auc \", auc, \"recall\", recall)",
      "execution_count": 17,
      "outputs": [
        {
          "name": "stdout",
          "output_type": "stream",
          "text": "auc  0.9814392449438976 recall 0.9183673469387755\n"
        }
      ]
    },
    {
      "metadata": {
        "_cell_guid": "6d140efc-1809-408f-88a5-7e53d2e0cb5f",
        "_uuid": "07da1e554d5cbfdf932bb0bc1d80550933876aab"
      },
      "cell_type": "markdown",
      "source": "- gradientboosting"
    },
    {
      "metadata": {
        "_cell_guid": "3ca06f08-8a60-48de-a8ce-46db59fe7097",
        "_uuid": "d9c4b44aa8cbdaec03c5f374a6c8db4746e25128",
        "collapsed": true,
        "trusted": true
      },
      "cell_type": "code",
      "source": "# GBoost = GradientBoostingClassifier( )\n# GBoost.fit(inputs,outputs)\n# pred =GBoost.predict(x_test)\n# fpr, tpr, thresholds = metrics.roc_curve(y_test.values.ravel(), pred)\n# metrics.auc(fpr, tpr)",
      "execution_count": null,
      "outputs": []
    },
    {
      "metadata": {
        "_cell_guid": "43d8573c-10b8-4eae-924c-46a1fb07e5f0",
        "_uuid": "7bd00c8135105537b0fdab7e98754916fd296b50"
      },
      "cell_type": "markdown",
      "source": "- LightGBM\n"
    },
    {
      "metadata": {
        "_cell_guid": "452555b9-d04e-43ae-bdfd-679b84bfe23c",
        "_uuid": "10de1b40827652d67156bca5a95f669b1e091136",
        "collapsed": true,
        "trusted": true
      },
      "cell_type": "code",
      "source": "# params = {\n#         'learning_rate': 0.10,\n#         'is_unbalance': 'true', # replaced with scale_pos_weight argument\n#     }\n# x_train2, x_val, y_train2, y_val = train_test_split(inputs,outputs, test_size = 0.2)\n# # y_val\n# train_df = lgb.Dataset(x_train2,y_train2.values.ravel())\n# val_df = lgb.Dataset(x_val, y_val.values.ravel(), reference=train_df)\n# lgbtrain = lgb.train(params, train_df, num_boost_round = 10, valid_sets=[val_df])\n# pred_prob= lgbtrain.predict(x_test)\n# # predictiong 값 바꾸기\n# func = np.vectorize((lambda x : 1 if x>0.5 else 0))\n# pred = func(pred_prob)\n\n# # Auc\n# fpr, tpr, thresholds = metrics.roc_curve(y_test.values.ravel(), pred)\n# metrics.auc(fpr, tpr)",
      "execution_count": null,
      "outputs": []
    },
    {
      "metadata": {
        "_cell_guid": "7fbc8537-3727-4425-9de4-dc2dc197b86b",
        "_uuid": "7f09c3698c09d45399090f76b14e71384aed6221"
      },
      "cell_type": "markdown",
      "source": "### 6. Simple Modeling : Whole Data"
    },
    {
      "metadata": {
        "_cell_guid": "009eba04-df33-433e-a369-793881c2785e",
        "_uuid": "2ed66e2f7e0735d6cc46a3b21bc0dcbf6dc7331e"
      },
      "cell_type": "markdown",
      "source": "- logistic regression (Whole Data)"
    },
    {
      "metadata": {
        "_cell_guid": "9b3d9658-6224-4b00-8f68-7ed3478f13f5",
        "_uuid": "ea3041cc99d4678ac7c0228381f9cce80b22746e",
        "collapsed": true,
        "trusted": true
      },
      "cell_type": "code",
      "source": "# logit2= LogisticRegression( penalty = 'l1')\n# logit2.fit(x_train,y_train)\n# y_predict = logit2.predict(x_test)\n# # auc 값\n# fpr, tpr, thresholds = metrics.roc_curve(y_test.values.ravel(), y_predict)\n# metrics.auc(fpr, tpr)",
      "execution_count": null,
      "outputs": []
    },
    {
      "metadata": {
        "_cell_guid": "ea852acf-3b6a-4560-8da8-245618ad97c6",
        "_uuid": "203eaf0471a041e682b3422898646b9e6ba3a065"
      },
      "cell_type": "markdown",
      "source": "- Naive Bayes Classfier (Whole data)"
    },
    {
      "metadata": {
        "_cell_guid": "3f9743f1-e854-48b5-8d71-ebe0c08102fd",
        "_uuid": "9772e85949d4f31c9e237b078e47558deb998978",
        "collapsed": true,
        "trusted": true
      },
      "cell_type": "code",
      "source": "# gaussian2 = GaussianNB()\n# gaussian2.fit(x_train,y_train)\n# Y_pred = gaussian2.predict(x_test)\n# fpr, tpr, thresholds = metrics.roc_curve(y_test.values.ravel(), pred)\n# metrics.auc(fpr, tpr)",
      "execution_count": null,
      "outputs": []
    },
    {
      "metadata": {
        "_cell_guid": "d3bee93d-e788-4b43-82f2-0a7cba9ef381",
        "_uuid": "9a32b40a9ad329d01d3c3cfbfddfa9396b478b43"
      },
      "cell_type": "markdown",
      "source": "- Random forest (whole data)"
    },
    {
      "metadata": {
        "_cell_guid": "ff97c416-136c-4337-9b5f-99d585a89a6b",
        "_uuid": "52fd679e6185bb5e173cbee5315a1baf100bbde2",
        "collapsed": true,
        "trusted": true
      },
      "cell_type": "code",
      "source": "# random_forest = RandomForestClassifier(n_estimators=100)\n# random_forest.fit(x_train,y_train)\n# pred = random_forest.predict(x_test)\n# fpr, tpr, thresholds = metrics.roc_curve(y_test.values.ravel(), pred)\n# metrics.auc(fpr, tpr)",
      "execution_count": null,
      "outputs": []
    },
    {
      "metadata": {
        "_cell_guid": "6b50f5c9-1be2-4d60-a191-f3ed63cabcbb",
        "_uuid": "6d1bffea38ed3932a14993ce9e8c03cf3dd4c6f6"
      },
      "cell_type": "markdown",
      "source": "- Light GBM "
    },
    {
      "metadata": {
        "_cell_guid": "471082f2-695b-412f-a421-9b1340c0afaa",
        "_uuid": "f06ae866d9ec338b513d37660891ec48280291a2",
        "collapsed": true,
        "trusted": true
      },
      "cell_type": "code",
      "source": "# params = {\n#         'learning_rate': 0.10,\n#         'is_unbalance': 'true', # replaced with scale_pos_weight argument\n#  }\n# x_train2, x_val, y_train2, y_val = train_test_split(x_train,y_train, test_size = 0.2)\n# # y_val\n# train_df = lgb.Dataset(x_train2,y_train2.values.ravel())\n# val_df = lgb.Dataset(x_val, y_val.values.ravel(), reference=train_df)\n# lgbtrain = lgb.train(params, train_df, num_boost_round = 10, valid_sets=[val_df])\n# pred_prob= lgbtrain.predict(x_test)\n# # predictiong 값 바꾸기\n# func = np.vectorize((lambda x : 1 if x>0.5 else 0))\n# pred = func(pred_prob)\n\n# # Auc\n# fpr, tpr, thresholds = metrics.roc_curve(y_test.values.ravel(), pred)\n# metrics.auc(fpr, tpr)\n# for name in vars().keys():\n#     print(name)",
      "execution_count": null,
      "outputs": []
    },
    {
      "metadata": {
        "_cell_guid": "9dde55e5-7a2d-41c5-938e-ae90eaae8252",
        "_uuid": "b24403745e3debc00f8b7b285a123ee49e223d7a"
      },
      "cell_type": "markdown",
      "source": "### 7. Modeling : Cross Validation\n    - Logistic Regression, Naive Bayese Classfier, Randomforest, Gradientboosting ,SVM\n    - 결과\n        - Logistic Regression, Random forest, Gradient boosting 의 수렴지점이 가장 높다\n        - 특히 Gradient boosting이 데이터가 많아지면 더 높은 지점에서 수렴한다.\n        "
    },
    {
      "metadata": {
        "_cell_guid": "ece7280f-e119-4320-a8e7-1c05682fe65c",
        "_uuid": "65bce81b7137c6771194d384869d5e0c5170e242",
        "scrolled": false,
        "trusted": true
      },
      "cell_type": "code",
      "source": "\nfrom sklearn.model_selection import KFold\nkfold = KFold(n_splits = 7,shuffle=True) # 10개씩 나눠서 10번 수행\n\nclasses = ['Logistic Regression', 'RandomForest','Gradientboosting']\nclassifier= [LogisticRegression( penalty = 'l1'),\n             RandomForestClassifier(n_estimators=100),GradientBoostingClassifier( )]\n%env JOBLIB_TEMP_FOLDER=/tmp\ncv_results = []\n\n# for i, model in enumerate(classifier) :\n#     cv_results.append(cross_val_score(model,inputs,outputs, scoring = 'roc_auc',cv = kfold,n_jobs=-1 ))\n#     print('auc : ', classes[i], round(cv_results[i].mean(),2))\nfor i, model in enumerate(classifier) :\n    cv_results.append(cross_val_score(modeggl,inputs,outputs, scoring = 'recall',cv = kfold,n_jobs=-1 ))\n    print('recall : ', classes[i], round(cv_results[i].mean(),2))\n\n\n  ",
      "execution_count": null,
      "outputs": [
        {
          "name": "stdout",
          "output_type": "stream",
          "text": "env: JOBLIB_TEMP_FOLDER=/tmp\nrecall :  Logistic Regression 0.93\nrecall :  RandomForest 1.0\nrecall :  Gradientboosting 0.98\n"
        }
      ]
    },
    {
      "metadata": {
        "_cell_guid": "972a7b7a-b391-48fc-9489-bbd1f6bb4812",
        "_uuid": "2a5ab5a8574de43151cfb0b23bc54d9e9de59a7d",
        "collapsed": true,
        "scrolled": true,
        "trusted": true
      },
      "cell_type": "code",
      "source": "# #@title 기본 제목 텍스트\n# def plot_learning_curve(estimator, title, X, y, ylim=None, cv=None, n_jobs=-1, train_sizes=np.linspace(.1, 1.0, 5)):\n#     \"\"\"Generate a simple plot of the test and training learning curve\"\"\"\n#     plt.figure()\n#     plt.title(title)\n#     if ylim is not None:\n#         plt.ylim(*ylim)\n#     plt.xlabel(\"Training examples\")\n#     plt.ylabel(\"Score\")\n#     train_sizes, train_scores, test_scores = learning_curve(\n#         estimator, X, y, cv=cv, n_jobs=n_jobs, train_sizes=train_sizes,\n#         scoring = 'roc_auc', shuffle =True)\n#     train_scores_mean = np.mean(train_scores, axis=1)\n#     train_scores_std = np.std(train_scores, axis=1)\n#     test_scores_mean = np.mean(test_scores, axis=1)\n#     test_scores_std = np.std(test_scores, axis=1)\n#     plt.grid()\n\n#     plt.fill_between(train_sizes, train_scores_mean - train_scores_std,\n#                      train_scores_mean + train_scores_std, alpha=0.1,\n#                      color=\"r\")\n#     plt.fill_between(train_sizes, test_scores_mean - test_scores_std,\n#                      test_scores_mean + test_scores_std, alpha=0.1, color=\"g\")\n#     plt.plot(train_sizes, train_scores_mean, 'o-', color=\"r\",\n#              label=\"Training score\")\n#     plt.plot(train_sizes, test_scores_mean, 'o-', color=\"g\",\n#              label=\"Cross-validation score\")\n#     plt.legend(loc=\"best\")\n#     return plt\n\n# for i in range(len(classes)):\n# #     print(inputs)\n#     g = plot_learning_curve(classifier[i],classes[i],inputs,outputs,cv=kfold)\n",
      "execution_count": null,
      "outputs": []
    },
    {
      "metadata": {
        "_cell_guid": "df9c175d-5694-452b-8c80-ff5568b42e39",
        "_uuid": "2961173ffa79ace18fc38d48cf383e3565b65394"
      },
      "cell_type": "markdown",
      "source": "### 8. Parameter search\n    - Logistic Regression, Random forest, Gradient boosting \n    - Logistic은 안할것\n    - Random forest는 0.980, gradient boosting은 0.983 이다"
    },
    {
      "metadata": {
        "_cell_guid": "14edfe51-b611-4246-9b20-563bde6d902e",
        "_uuid": "2bed6d5ae071f2f7f0c256413e9fbbb690808652"
      },
      "cell_type": "markdown",
      "source": "- Random Forest\n    - default 값으로 prediction 했을때 auc가 0.937이었는데\n      best로 찾은것이 0.932 이다. \n    - grid search할때 default 값을 빼서 그런것인데 결국 default가 제일 좋았던것"
    },
    {
      "metadata": {
        "_cell_guid": "f870a8eb-1bae-4481-9d4d-111dd848fbef",
        "_uuid": "f7b893a63b210418e17d8432452bc38ffebffdb8",
        "scrolled": true,
        "trusted": true
      },
      "cell_type": "code",
      "source": "rf_param_grid = {\"max_depth\": [None],\n              \"max_features\": ['sqrt'],\n              \"min_samples_split\": [2, 10],\n              \"min_samples_leaf\": [1, 10],\n              \"bootstrap\": [True],\n              \"n_estimators\" :[300,600],\n              \"criterion\": [\"gini\"]}\n\ngsrandom_forest = GridSearchCV(random_forest,param_grid = rf_param_grid,n_jobs=20,\n                               cv=kfold, scoring=\"recall\", verbose = 1)\ngsrandom_forest.fit(inputs,outputs)\nrandom_forest_best = gsrandom_forest.best_estimator_\ngsrandom_forest.best_score_",
      "execution_count": null,
      "outputs": []
    },
    {
      "metadata": {
        "_cell_guid": "34b9ff61-4a22-4e41-8125-778280db8548",
        "_uuid": "9ba8d07a26ea2df546e99cba3e8d2405a1257119",
        "collapsed": true,
        "trusted": true
      },
      "cell_type": "code",
      "source": "# Random forest 로 test error\ny_predict= random_forest_best.predict_proba(x_test)\nfpr, tpr, thresholds = metrics.roc_curve(y_test.values.ravel(), y_predict[:,1])\nauc = metrics.auc(fpr, tpr)\n\nprediction= random_forest_best.predict(x_test)\nrecall = metrics.recall_score( y_test.values.ravel(),prediction)\nprint(\"auc \", auc, \"recall\", recall)",
      "execution_count": null,
      "outputs": []
    },
    {
      "metadata": {
        "_cell_guid": "9999bde9-90eb-4c45-9882-4ea74ed8d187",
        "_uuid": "4911af57b61114bea20e37b3d7d048e7d7ac9e05"
      },
      "cell_type": "markdown",
      "source": "- Gradient boosting\n    - default parameter로 fit하여 prediction 했을때 auc 0.940 이였고\n      grid search 해서 찾아낸 parameter로 했을 때 0.946 이다\n    - 모든 모델을 통틀어서 0.946이 가장 높은 auc를 기록했다."
    },
    {
      "metadata": {
        "_cell_guid": "e60b77c3-6bdd-4268-8ddd-413d56b079a1",
        "_uuid": "e2c2b16a81d9c0799f445f619906047676b80e26",
        "collapsed": true,
        "trusted": true
      },
      "cell_type": "code",
      "source": "GBC = GradientBoostingClassifier()\ngb_param_grid = {'loss' : [\"deviance\"],\n              'n_estimators' : [100]#,200,300],\n              'learning_rate': [0.1,0.01], #[0.1, 0.05, 0.01],\n              'max_depth': [1,4],\n              'min_samples_leaf': [100,150],\n              'max_features': [\"sqrt\"]}\ngsGBC = GridSearchCV(GBC,param_grid = gb_param_grid,n_jobs=-1,\n                     cv=kfold, scoring=\"roc_auc\", verbose = 1)\ngsGBC.fit(inputs,outputs)\nGBC_best = gsGBC.best_estimator_\ngsGBC.best_score_",
      "execution_count": null,
      "outputs": []
    },
    {
      "metadata": {
        "_cell_guid": "f041ea84-bae5-402c-b830-cdd2d78bcad7",
        "_uuid": "ee5bc92d620c0dce688ab3c6ecba74aa43cd5659",
        "collapsed": true,
        "trusted": true
      },
      "cell_type": "code",
      "source": "# Gradient boosting 으로 test error 체크\ny_predict= GBC_best.predict_proba(x_test)\nfpr, tpr, thresholds = metrics.roc_curve(y_test.values.ravel(), y_predict[:,1])\nauc = metrics.auc(fpr, tpr)\n\nprediction= GBC_best.predict(x_test)\nrecall = metrics.recall_score( y_test.values.ravel(),prediction)\nprint(\"auc \", auc, \"recall\", recall)",
      "execution_count": null,
      "outputs": []
    },
    {
      "metadata": {
        "_cell_guid": "07b15898-68da-408b-b112-f5bbe3bcee5c",
        "_uuid": "e2a0dc60572a53ec53640267d0dc6959119813a6"
      },
      "cell_type": "markdown",
      "source": "### 9. Ensemble (combine) models\n    - Random forest 와 Gradient Boosting best 결과를 합쳐보자\n    - 두 결과를 합쳐서 Voting을 해보니 오히려 둘의 auc값보다 떨어졌다."
    },
    {
      "metadata": {
        "_cell_guid": "27a50b04-0db4-4a3d-b696-6e4cedd86b1a",
        "_uuid": "9f3d112d03d029630ba00ea483868792faefb63e",
        "collapsed": true,
        "trusted": true
      },
      "cell_type": "code",
      "source": "Voting = VotingClassifier(estimators =[('Randomforest', random_forest_best),\n                                     ('Gradientboosting', GBC_best)], voting ='hard',n_jobs=20)\nVoting.fit(inputs,outputs)\ny_predict = Voting.predict(x_test)\nfpr, tpr, thresholds = metrics.roc_curve(y_test.values.ravel(), y_predict)\nmetrics.auc(fpr, tpr)",
      "execution_count": null,
      "outputs": []
    },
    {
      "metadata": {
        "_cell_guid": "e8580374-0894-48de-a20c-b3236985e56e",
        "_uuid": "b23ead96cf2d0e43142613ed0bb63bd41a07a873"
      },
      "cell_type": "markdown",
      "source": "- logistic regression도 합쳐보자 \n    - 결과는 조금 더 올라갔다"
    },
    {
      "metadata": {
        "_cell_guid": "8f0b11c0-2f7d-4780-ad58-b0f5920bb4d5",
        "_uuid": "5fa09fe429989425bb85fbb9ea50238714ea8e34",
        "collapsed": true,
        "trusted": true
      },
      "cell_type": "code",
      "source": "Voting = VotingClassifier(estimators =[('Randomforest', random_forest_best),\n                                     ('Gradientboosting', GBC_best),\n                                      ('logit',logit)\n                                      ], voting ='soft',n_jobs =20)\nVoting.fit(inputs,outputs)\ny_predict = Voting.predict_proba(x_test)\nfpr, tpr, thresholds = metrics.roc_curve(y_test.values.ravel(), y_predict[:,1])\nauc = metrics.auc(fpr, tpr)\n\nprediction= Voting.predict(x_test)\nrecall = metrics.recall_score( y_test.values.ravel(),prediction)\nprint(\"auc \", auc, \"recall\", recall)\n",
      "execution_count": null,
      "outputs": []
    },
    {
      "metadata": {
        "_cell_guid": "138ec517-15b5-4019-99e4-f7690cd91e2d",
        "_uuid": "5a6da09a3b7e95449874c40103825886f247d189"
      },
      "cell_type": "markdown",
      "source": "- Naive Bayese Classfier 합쳐보자\n    - 떨어졌다"
    },
    {
      "metadata": {
        "_cell_guid": "2017d871-073c-414e-a9e8-d48fc6dd0b65",
        "_uuid": "f7b27995868e9a7019fefd4e89032334109cfe0f",
        "collapsed": true,
        "trusted": true
      },
      "cell_type": "code",
      "source": "\nVoting = VotingClassifier(estimators =[('Randomforest', random_forest_best),\n                                     ('Gradientboosting', GBC_best),\n                                      ('logit',logit),\n                                       ('Naive',gaussian)\n                                      ], voting ='hard',n_jobs =20)\nVoting.fit(inputs,outputs)\ny_predict = Voting.predict(x_test)\nfpr, tpr, thresholds = metrics.roc_curve(y_test.values.ravel(), y_predict)\nmetrics.auc(fpr, tpr)",
      "execution_count": null,
      "outputs": []
    },
    {
      "metadata": {
        "_cell_guid": "5d48d415-da10-4895-bbe0-463ebcb63ba1",
        "_uuid": "6f14945c4286dbc5a92f52a251a3a62ec684a3ea"
      },
      "cell_type": "markdown",
      "source": "### 10. Best model의 confusion matrix\n    - threshold를 어디에서 끊는것이 좋은지를 결정해야한다\n    - roc curve를 먼저 그리자\n    - 어디에서 끊어야할까? "
    },
    {
      "metadata": {
        "_cell_guid": "76e01d1b-fb48-46ae-bc47-c31b040e8403",
        "_uuid": "2e1a8c3a09fef9b4c05f61de96c0c053c6bb4c98",
        "collapsed": true,
        "trusted": true
      },
      "cell_type": "code",
      "source": "y_predict= GBC_best.predict(x_test)\nfpr, tpr, thresholds = metrics.roc_curve(y_test.values.ravel(), y_predict)\nroc_auc = metrics.auc(fpr, tpr)\n# roc curve\nimport matplotlib.pyplot as plt\nplt.title('Receiver Operating Characteristic')\nplt.plot(fpr, tpr, 'b', label = 'AUC = %0.2f' % roc_auc)\nplt.legend(loc = 'lower right')\nplt.plot([0, 1], [0, 1],'r--')\nplt.xlim([0, 1])\nplt.ylim([0, 1])\nplt.ylabel('True Positive Rate')\nplt.xlabel('False Positive Rate')\nplt.show()",
      "execution_count": null,
      "outputs": []
    },
    {
      "metadata": {
        "_cell_guid": "037e7448-00a0-4467-8c54-d16e9250d739",
        "_uuid": "1e2249f1a54714d1d308e3a0d80a7f4fef708ff7"
      },
      "cell_type": "markdown",
      "source": "- threshold 0.5일때의 confusion matrix"
    },
    {
      "metadata": {
        "_cell_guid": "5b047e3c-1cff-4945-9595-de869f48bfad",
        "_uuid": "702e77d0e427d8b96bad03c6ca174e522955ae7f",
        "collapsed": true,
        "trusted": true
      },
      "cell_type": "code",
      "source": "def plot_confusion_matrix(cm, classes,\n                          normalize=False,\n                          title='Confusion matrix',\n                          cmap=plt.cm.Blues):\n    \"\"\"\n    This function prints and plots the confusion matrix.\n    Normalization can be applied by setting `normalize=True`.\n    \"\"\"\n    if normalize:\n        cm = cm.astype('float') / cm.sum(axis=1)[:, np.newaxis]\n        print(\"Normalized confusion matrix\")\n    else:\n        print('Confusion matrix, without normalization')\n\n    print(cm)\n\n    plt.imshow(cm, interpolation='nearest', cmap=cmap)\n    plt.title(title)\n    plt.colorbar()\n    tick_marks = np.arange(len(classes))\n    plt.xticks(tick_marks, classes, rotation=45)\n    plt.yticks(tick_marks, classes)\n\n    fmt = '.2f' if normalize else 'd'\n    thresh = cm.max() / 2.\n    for i, j in itertools.product(range(cm.shape[0]), range(cm.shape[1])):\n        plt.text(j, i, format(cm[i, j], fmt),\n                 horizontalalignment=\"center\",\n                 color=\"white\" if cm[i, j] > thresh else \"black\")\n\n    plt.tight_layout()\n    plt.ylabel('True label')\n    plt.xlabel('Predicted label')",
      "execution_count": null,
      "outputs": []
    },
    {
      "metadata": {
        "_cell_guid": "9fb46515-6d7f-4699-90bb-4a792ab9d90f",
        "_uuid": "3445de25f5432ac7ade07a1299b00f6f8b425ebe"
      },
      "cell_type": "markdown",
      "source": "- recall은 높은데 , precision이 너무 낮다.\n- precision 1이라고 예측했는데 0인 경우\n- recall : 실제 1인데 1이라고 예측하는 비율\n    - 1을 과하게 예측 하고 있다."
    },
    {
      "metadata": {
        "_cell_guid": "4bae6fd1-512f-4e53-9a53-348fe65f3559",
        "_uuid": "f1623aef033a966a0120e3bbc7cf478afee83e5a",
        "collapsed": true,
        "trusted": true
      },
      "cell_type": "code",
      "source": "import itertools\nfrom sklearn.metrics import confusion_matrix\n\n\ncnf_matrix = confusion_matrix(y_test.values.ravel(), y_predict)\nnp.set_printoptions(precision=2)\n# Plot non-normalized confusion matrix\nplt.figure()\nplot_confusion_matrix(cnf_matrix, classes=[0,1],\n                      title='Confusion matrix')\n",
      "execution_count": null,
      "outputs": []
    },
    {
      "metadata": {
        "_cell_guid": "25a961cf-d442-46dc-84d5-2fd0198bc89a",
        "_uuid": "f967617904d56fddc860a9e628942ccb7f2319b0"
      },
      "cell_type": "markdown",
      "source": "## Best model"
    },
    {
      "metadata": {
        "_cell_guid": "1c0935c5-b35b-4fc0-a927-6ec79b5a14b5",
        "_uuid": "5bfe9d689c955888cd18262cb54f75e8363dbc80",
        "collapsed": true,
        "trusted": true
      },
      "cell_type": "code",
      "source": "GBC_best",
      "execution_count": null,
      "outputs": []
    },
    {
      "metadata": {
        "_cell_guid": "1c44b1e6-a90a-4ea5-a3c2-08fa676611c1",
        "_uuid": "865035b3bb29c4c73c9cd18b57120e59eeac6f31"
      },
      "cell_type": "markdown",
      "source": "## 11 . Stacking \n"
    },
    {
      "metadata": {
        "_cell_guid": "b25db5e9-69fc-40ef-b054-4bdb2929f0f1",
        "_uuid": "c6976ae659cd7d6baf56c03cdb8086896e256a06",
        "collapsed": true,
        "trusted": true
      },
      "cell_type": "code",
      "source": "",
      "execution_count": null,
      "outputs": []
    },
    {
      "metadata": {
        "trusted": true,
        "collapsed": true,
        "_uuid": "7222a008f44a57b7ef9a06a062b88b9232612f15"
      },
      "cell_type": "code",
      "source": "",
      "execution_count": null,
      "outputs": []
    }
  ],
  "metadata": {
    "kernelspec": {
      "display_name": "Python 3",
      "language": "python",
      "name": "python3"
    },
    "language_info": {
      "codemirror_mode": {
        "name": "ipython",
        "version": 3
      },
      "file_extension": ".py",
      "mimetype": "text/x-python",
      "name": "python",
      "nbconvert_exporter": "python",
      "pygments_lexer": "ipython3",
      "version": "3.6.5"
    }
  },
  "nbformat": 4,
  "nbformat_minor": 1
}